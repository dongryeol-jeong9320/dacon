{
 "cells": [
  {
   "cell_type": "code",
   "execution_count": 1,
   "id": "4aba35d7",
   "metadata": {
    "ExecuteTime": {
     "end_time": "2022-01-20T07:29:51.191852Z",
     "start_time": "2022-01-20T07:29:49.259041Z"
    }
   },
   "outputs": [],
   "source": [
    "## 기본 라이브러리\n",
    "import re\n",
    "import warnings\n",
    "import numpy as np\n",
    "import pandas as pd\n",
    "\n",
    "## 시각화 라이브러리\n",
    "import matplotlib\n",
    "import matplotlib.font_manager as fm\n",
    "import matplotlib.pyplot as plt\n",
    "from matplotlib import patches\n",
    "import seaborn as sns\n",
    "\n",
    "## 머신 러닝 라이브러리\n",
    "from xgboost import XGBRegressor\n",
    "from lightgbm import LGBMRegressor\n",
    "from sklearn.linear_model import LinearRegression, Ridge\n",
    "from sklearn.tree import DecisionTreeRegressor\n",
    "from sklearn.ensemble import RandomForestRegressor, StackingRegressor\n",
    "from sklearn.svm import SVR\n",
    "from sklearn.feature_selection import RFE\n",
    "from sklearn.model_selection import train_test_split\n",
    "from sklearn.metrics import mean_squared_error\n",
    "\n",
    "## 기타 라이브러리\n",
    "from scipy import optimize\n",
    "from collections import defaultdict\n",
    "\n",
    "## 설정\n",
    "warnings.filterwarnings('ignore')\n",
    "pd.set_option(\"display.max_columns\", 200)\n",
    "pd.set_option(\"display.max_rows\", 500)\n",
    "\n",
    "## Matplotlib 한글 폰트 설정\n",
    "fm.get_fontconfig_fonts()\n",
    "# font_location = '/usr/share/fonts/truetype/nanum/NanumGothicOTF.ttf'\n",
    "font_location = 'C:/Windows/Fonts/gulim.ttc' # For Windows\n",
    "font_name = fm.FontProperties(fname=font_location).get_name()\n",
    "matplotlib.rc('font', family=font_name)\n",
    "plt.rc('figure', titlesize=70)\n",
    "\n",
    "%matplotlib inline"
   ]
  },
  {
   "cell_type": "code",
   "execution_count": 2,
   "id": "1e2e11e8",
   "metadata": {
    "ExecuteTime": {
     "end_time": "2022-01-20T07:29:51.285844Z",
     "start_time": "2022-01-20T07:29:51.193851Z"
    }
   },
   "outputs": [],
   "source": [
    "def missing_value(df, random_state=42):\n",
    "    # 장타율, 출루율, 타율, wOBA, wRC 등의 null값은 0으로 처리\n",
    "    df.loc[df['OBP'].isna(), 'OBP'] = 0\n",
    "    df.loc[df['SLG'].isna(), 'SLG'] = 0\n",
    "    df['OPS'] = df['OBP'] + df['SLG']\n",
    "    df.loc[df['avg'].isna(), 'avg'] = 0\n",
    "    df['wOBA'] = df['wOBA'].fillna(0)\n",
    "    df['wRC'] = df['wRC'].fillna(0)\n",
    "\n",
    "    # PA = 타수(AB) + 볼넷 + 사사구 + 희생번트 + 희생플라이\n",
    "    df.loc[df['PA'].isna(), 'PA'] = df[['AB', 'BB', 'SB', 'SF', 'SH']].sum(axis=1)\n",
    "\n",
    "    # IBB, SH, SF : 타석 대비 IBB, SH, SF의 평균값을 타석에 곱해서 구한다.\n",
    "    df.loc[df['IBB'].isna(), 'IBB'] = round(df.loc[df['IBB'].isna()]['PA'] * 0.002) # 타석 대비 평균값 0.0002\n",
    "    df.loc[df['SH'].isna(), 'SH'] = round(df.loc[df['SH'].isna()]['PA'] * 0.016) # 타석 대비 평균값 0.016\n",
    "    df.loc[df['SF'].isna(), 'SF'] = round(df.loc[df['SF'].isna()]['PA'] * 0.007) # 타석 대비 평균값 0.007\n",
    "    \n",
    "    # WPA\n",
    "    df = df.drop('WPA', axis=1)\n",
    "    \n",
    "    # WAR\n",
    "    df = fillna_WAR(df, column='TB', random_state=random_state)\n",
    "    \n",
    "    # position: 가장 많이한 포지션\n",
    "    pos_nulls = list(df.loc[df['position'].isna()]['batter_id'].unique())\n",
    "    for batter_id in pos_nulls:\n",
    "        df = fillna_position(df, batter_id)\n",
    "    return df\n",
    "        \n",
    "def fillna_position(df, batter_id):\n",
    "    null_index = df[(df['batter_id'] == batter_id) & \n",
    "                    (df['position'].isna())].index\n",
    "    index1, index2 = null_index[0], null_index[-1]\n",
    "    if batter_id == df.iloc[index1 - 1]['batter_id']:\n",
    "        position = str(df.iloc[index1 - 1]['position'])\n",
    "    elif batter_id == df.iloc[index2 + 1]['batter_id']:\n",
    "        position = str(df.iloc[index2 + 1]['position'])\n",
    "    else: # 가장 많이한 포지션\n",
    "        position = df[df['batter_id'] == batter_id]['position'].value_counts().keys()[0]\n",
    "        \n",
    "    df.loc[(df['batter_id'] == batter_id) & \n",
    "           (df['position'].isna()), 'position'] = position\n",
    "    return df\n",
    "\n",
    "def fillna_WAR(df, column='TB', random_state=42):\n",
    "    # train, test, validation split\n",
    "    df_war = df.copy()\n",
    "    df_war = df_war.drop(['batter_id', 'batter_name', 'team', 'position', 'career'], axis=1)\n",
    "    test_war = df_war.loc[df_war['WAR'].isna()]\n",
    "    train_war = df_war.loc[df_war['WAR'].isna() == False]\n",
    "    train_war = basic_outlier(train_war, 'WAR')\n",
    "    X_train_war, X_val_war, y_train_war, y_val_war = train_test_split(train_war.drop(['WAR'], axis=1),\n",
    "                                                                      train_war['WAR'],\n",
    "                                                                      test_size=0.2,\n",
    "                                                                      random_state=random_state)\n",
    "    \n",
    "    lr = LinearRegression()\n",
    "    lr.fit(X_train_war[[column]], y_train_war)\n",
    "    lr_pred = lr.predict(X_val_war[[column]])\n",
    "    y_pred = lr.predict(test_war[[column]])\n",
    "    df.loc[df['WAR'].isna(), 'WAR'] = y_pred\n",
    "    return df \n",
    "    \n",
    "def basic_outlier(df, column, weight=1.5):\n",
    "    q1, q3 = np.percentile(df[column], [25, 75])\n",
    "    iqr = q3 - q1\n",
    "    \n",
    "    lower_bound = q1 - (iqr * weight)\n",
    "    upper_bound = q3 + (iqr * weight)\n",
    "    \n",
    "    return df.loc[(df[column] >= lower_bound) &\n",
    "                   (df[column] <= upper_bound)].reset_index(drop=True)\n",
    "\n",
    "def mahalanobis_dist_outlier(df, targets, plot=True, verbose=False, q=0.95):\n",
    "    from scipy.stats import chi2\n",
    "    \n",
    "    # Import dataset and clean it\n",
    "    df_target = df[targets]\n",
    "    df_target = df_target.fillna(0)\n",
    "    df_target = df_target.to_numpy()\n",
    "\n",
    "    # 1. Covariance matrix\n",
    "    covariance  = np.cov(df_target , rowvar=False)\n",
    "\n",
    "    # 2. Covariance matrix power of -1\n",
    "    covariance_pm1 = np.linalg.matrix_power(covariance, -1)\n",
    "\n",
    "    # 3. Center point\n",
    "    centerpoint = np.mean(df_target , axis=0)\n",
    "\n",
    "    # 4. Distances between center point and \n",
    "    distances = []\n",
    "    for i, val in enumerate(df_target):\n",
    "        p1 = val\n",
    "        p2 = centerpoint\n",
    "        distance = (p1-p2).T.dot(covariance_pm1).dot(p1-p2)\n",
    "        distances.append(distance)\n",
    "    distances = np.array(distances)\n",
    "\n",
    "    # 5. Cutoff (threshold) value from Chi-Sqaure Distribution for detecting outliers \n",
    "    cutoff = chi2.ppf(q, df_target.shape[1])\n",
    "\n",
    "    # 6. Index of outliers\n",
    "    outlier_indices = np.where(distances > cutoff )[0]\n",
    "\n",
    "    if verbose:\n",
    "        print('--- Index of Outliers ----')\n",
    "        print(outlier_indices)\n",
    "\n",
    "        print('--- Observations found as outlier -----')\n",
    "        print(df_target[ distances > cutoff , :])\n",
    "\n",
    "    if plot:\n",
    "        ## 7. Finding ellipse dimensions \n",
    "        pearson = covariance[0, 1]/np.sqrt(covariance[0, 0] * covariance[1, 1])\n",
    "        ell_radius_x = np.sqrt(1 + pearson)\n",
    "        ell_radius_y = np.sqrt(1 - pearson)\n",
    "        lambda_, v = np.linalg.eig(covariance)\n",
    "        lambda_ = np.sqrt(lambda_)\n",
    "\n",
    "        # Ellipse patch\n",
    "        ellipse = patches.Ellipse(xy=(centerpoint[0], centerpoint[1]),\n",
    "                          width=lambda_[0]*np.sqrt(cutoff)*2, height=lambda_[1]*np.sqrt(cutoff)*2,\n",
    "                          angle=np.rad2deg(np.arccos(v[0, 0])), edgecolor='#fab1a0')\n",
    "        ellipse.set_facecolor('#0984e3')\n",
    "        ellipse.set_alpha(0.5)\n",
    "        fig = plt.figure()\n",
    "        ax = plt.subplot()\n",
    "        ax.add_artist(ellipse)\n",
    "        plt.scatter(df_target[: , 0], df_target[ : , 1])\n",
    "        plt.xlabel(targets[0])\n",
    "        plt.ylabel(targets[1])\n",
    "        plt.show()\n",
    "    \n",
    "    return df.loc[df.index.isin(outlier_indices) == False], outlier_indices\n",
    "\n",
    "def sabermetrics(df):\n",
    "    df['1B'] = df['H'] - (df['2B'] + df['3B'] + df['HR']) # 1루타\n",
    "    df['XBH'] = df['HR'] + df['2B'] + df['3B'] # 장타\n",
    "    df['BOB'] = df['H'] + df['BB'] + df['HBP'] # 출루\n",
    "    \n",
    "    # BABIP\n",
    "    df['BABIP'] = (df['H'] - df['HR']) / (df['AB'] - df['SO'] - df['HR'] + df['SF'])\n",
    "    df['BABIP'] = df['BABIP'].fillna(0)\n",
    "    \n",
    "    # GPA\n",
    "    df['GPA'] = (1.57 * df['OBP']) + df['SLG'] / 4\n",
    "    \n",
    "    # RC\n",
    "    df['OBF'] = df['H'] + df['BB'] - df['CS'] + df['HBP'] - df['GDP'] # 출루 능력\n",
    "    df['AF'] = (0.24 * (df['BB'] - df['IBB'] + df['HBP']) \n",
    "                + 0.62 * df['SB'] + 0.5 * (df['SH'] + df['SF']) - 0.03 * df['SO']) # 진루 능력\n",
    "    df['OF'] = df['AB'] + df['BB'] + df['HBP'] + df['SH'] + df['SF'] # 기회 창출\n",
    "    df['RC'] = ((2.4 * df['OF'] + df['OBF']) * (3 * df['OF'] + df['AF']) / 9 * df['OF']) - 0.9 * df['OF']\n",
    "    df['RC27'] = df['RC'] / 27\n",
    "    \n",
    "    # XR\n",
    "    ## 개인 기대득점\n",
    "    df['XR'] = (\n",
    "        0.5 * df['1B'] + 0.72 * df['2B'] + 1.04 * df['3B'] + 1.44 * df['HR'] + 0.34 * (df['HBP'] + df['BB'] - df['IBB'])\n",
    "        + 0.25 * df['IBB'] + 0.18 * df['SB'] - 0.32 * df['CS'] - 0.09 * (df['AB'] - df['H'] - df['SO']) - 0.098 * df['SO']\n",
    "        - 0.37 * df['GDP'] + 0.37 * df['SF'] + 0.04 * df['SH']\n",
    "    ) \n",
    "    ## 팀 기대득점\n",
    "    df_team = df.copy().groupby(['year', 'team']).sum().reset_index()[['year', 'team', 'XR']]\n",
    "    df_team = df_team.rename(columns={'XR':'teamXR'})\n",
    "    df = pd.merge(df, df_team, on=['year', 'team'], how='left')\n",
    "    \n",
    "    # 팀 기대득점 대비 XR\n",
    "    df['tXR'] = (df['XR'] / df['teamXR']) * 100\n",
    "    return df\n",
    "\n",
    "def OPS_plus(df):\n",
    "    years = sorted(df.year.unique())\n",
    "    for year in years:\n",
    "        tmp = df.loc[df['year'] == year]\n",
    "        obp_mean = tmp['OBP'].mean()\n",
    "        slg_mean = tmp['SLG'].mean()\n",
    "        df.loc[df['year'] == year, 'OPS+'] = 100 * ((tmp['OBP'] / obp_mean) + (tmp['SLG'] / slg_mean) - 1)        \n",
    "    return df"
   ]
  },
  {
   "cell_type": "code",
   "execution_count": 3,
   "id": "d98bc4fe",
   "metadata": {
    "ExecuteTime": {
     "end_time": "2022-01-20T07:29:51.311738Z",
     "start_time": "2022-01-20T07:29:51.288862Z"
    }
   },
   "outputs": [],
   "source": [
    "def preprocess(df, \n",
    "               outlier_targets=['AB', 'OPS+'], q=0.95, \n",
    "               lower_season=2001, upper_season=9999,\n",
    "               drop_columns=['batter_name', 'career'],\n",
    "               random_state=42, last_season=2018,\n",
    "               Train=True):\n",
    "    ## 1. Missing value\n",
    "    df = missing_value(df, random_state=random_state)\n",
    "    \n",
    "    ## 2. outlier\n",
    "    if Train:\n",
    "        df = df.loc[(df['year'] >= lower_season) &\n",
    "                    (df['year'] <= upper_season)].reset_index(drop=True)\n",
    "        if 'OPS+' in outlier_targets:\n",
    "            df = OPS_plus(df)\n",
    "        df, _ = mahalanobis_dist_outlier(df, targets=outlier_targets, plot=False, q=q) # mahalnobis distance outlier\n",
    "    df = OPS_plus(df)\n",
    "    \n",
    "    ## 3. new variables\n",
    "    ### 3.1 sabermetrics\n",
    "    df = sabermetrics(df)\n",
    "    pa_columns = ['R', 'H', '2B', '3B', 'HR', 'TB', 'RBI', 'SB', 'CS', \n",
    "                  'BB', 'HBP', 'SO', 'GDP', '1B', 'XBH', 'BOB', 'OBF']\n",
    "    # 타석수 대비 기록\n",
    "    for col in pa_columns:\n",
    "        df[col + '/PA'] = (df[col] / (df['PA'] + 1)).fillna(0)\n",
    "        \n",
    "    # 3.2 categorical\n",
    "    # team\n",
    "    df.loc[df.team.isin(['우리', '현대', '넥센', '키움']), 'team'] = '히어로즈'\n",
    "    df.loc[df.team.isin(['OB']), 'team'] = '두산'\n",
    "    df.loc[df.team.isin(['해태']), 'team'] = 'KIA'\n",
    "    df.loc[df.team.isin(['쌍방울']), 'team'] = 'SK'\n",
    "    df_team = pd.get_dummies(df['team'])\n",
    "    df = pd.concat([df, df_team], axis=1)\n",
    "    \n",
    "    # position\n",
    "    df['position'] = [x if x == 'DH' or x == 'C' else 'F'\n",
    "                     for x in df['position']]\n",
    "    df_pos = pd.get_dummies(df['position'])\n",
    "    df = pd.concat([df, df_pos], axis=1)\n",
    "    drop_columns += ['team', 'position']\n",
    "    \n",
    "    if Train:\n",
    "        correct_columns = list(df.select_dtypes(['int', 'float']).columns)\n",
    "        del_columns = ['batter_id', 'year', 'OPS', 'age', 'AB']\n",
    "        for x in del_columns:\n",
    "            correct_columns.remove(x)\n",
    "\n",
    "        for year in sorted(df.year.unique()):\n",
    "            avg_year = df.loc[df['year'] == year][correct_columns].mean()\n",
    "            df.loc[df['year'] == year, correct_columns] = df[correct_columns] / avg_year\n",
    "    \n",
    "    df = df.drop(drop_columns, axis=1)\n",
    "    return df\n",
    "    \n",
    "def create_target_value(df, column, target_name='target'):\n",
    "    # 다음 시즌\n",
    "    target = list(df[column])\n",
    "    next_AB = list(df['AB'])\n",
    "    del target[0] \n",
    "    del next_AB[0]\n",
    "    target.append(-1)\n",
    "    next_AB.append(-1)\n",
    "    df[target_name] = target\n",
    "    df['nextAB'] = next_AB\n",
    "    \n",
    "    # 타자 이름별 연도가 가장 큰 열의 OPS값을 -1로 바꿔준다.\n",
    "    # 현역일 경우 2018년, 은퇴한 선수일 경우 은퇴년도가 -1이 된다.\n",
    "    batter_year = df.groupby('batter_id')['year'].max().reset_index()\n",
    "    for batter_id, year in zip(list(batter_year['batter_id']), list(batter_year['year'])):\n",
    "        df.loc[(df['batter_id'] == batter_id) & (df['year'] == year), [target_name, 'nextAB']] = -1\n",
    "    return df\n",
    "\n",
    "\n",
    "\n",
    "def aging_curve(func, df, target='WAR', lower=0.1, upper=0.9, plot=True,\n",
    "                median=False, ma=False, window=3, opt_return=False,\n",
    "                age_upper=99, data=True, curve_fit=True):\n",
    "    \n",
    "    df = df.loc[(df[target] > df[target].quantile(lower)) &\n",
    "                (df[target] < df[target].quantile(upper)) &\n",
    "                (df['age'] < age_upper)]\n",
    "    if median:\n",
    "        df_age = df.groupby('age').median().reset_index()\n",
    "    else:\n",
    "        df_age = df.groupby('age').mean().reset_index()\n",
    "    \n",
    "    if ma:\n",
    "        title = 'Aging Curve MA(' + target + ')'\n",
    "        xdata = df_age['age'].rolling(window=window).mean().dropna()\n",
    "        ydata = df_age[target].rolling(window=window).mean().dropna()\n",
    "    else:\n",
    "        title = 'Aging Curve (' + target + ')' \n",
    "        xdata = df_age['age']\n",
    "        ydata = df_age[target]\n",
    "        \n",
    "    popt, pcov = optimize.curve_fit(func, xdata, ydata)\n",
    "    \n",
    "    if plot:\n",
    "        plt.figure(figsize=(10, 6))\n",
    "        if data:\n",
    "            plt.plot(xdata, ydata, '-o', label='avg. '+ target, color='tab:blue')\n",
    "        if curve_fit:\n",
    "            plt.plot(xdata, func(xdata, *popt), '-o', label=title, color='tab:orange')\n",
    "        plt.xticks(ticks=xdata)\n",
    "        plt.legend()\n",
    "        plt.xlabel('Age')\n",
    "        plt.ylabel(target)\n",
    "        plt.title(title)\n",
    "        plt.show();\n",
    "\n",
    "    if opt_return:\n",
    "        y_hat = func(xdata, *popt)\n",
    "        return {x:y for x, y in zip(xdata, y_hat)}\n",
    "\n",
    "def func(x, a, b, c, d, e):\n",
    "    return a * x ** 5 + b * x ** 4 + c * x ** 3 + d * x + e"
   ]
  },
  {
   "cell_type": "code",
   "execution_count": 4,
   "id": "11251fc6",
   "metadata": {
    "ExecuteTime": {
     "end_time": "2022-01-20T07:29:52.771834Z",
     "start_time": "2022-01-20T07:29:51.313869Z"
    }
   },
   "outputs": [],
   "source": [
    "rsb = pd.read_csv('./data/Regular_Season_Batter.csv') # 정규시즌 + 스탯티즈 크롤링 데이터\n",
    "df = rsb.copy()\n",
    "df = preprocess(df, drop_columns=['batter_name', 'career'], q=0.95)\n",
    "\n",
    "# Agin Curve\n",
    "popt = aging_curve(func=func, df=df, target='OPS', data=False, opt_return=True, plot=False)\n",
    "df['age'] = [popt[a] if a != 42 else popt[18] for a in df['age']]\n",
    "\n",
    "# Create target value\n",
    "df = create_target_value(df, column='OPS')"
   ]
  },
  {
   "cell_type": "code",
   "execution_count": 5,
   "id": "07f37cf3",
   "metadata": {
    "ExecuteTime": {
     "end_time": "2022-01-20T07:29:52.892610Z",
     "start_time": "2022-01-20T07:29:52.772833Z"
    }
   },
   "outputs": [],
   "source": [
    "# OPS, age 시즌별 평균으로 나누어 보정 \n",
    "correct_columns = ['OPS', 'age', 'AB']\n",
    "for year in sorted(df.year.unique()):\n",
    "    mean = df.loc[df['year'] == year][correct_columns].mean()\n",
    "    df.loc[df['year'] == year, correct_columns] = df[correct_columns] / mean"
   ]
  },
  {
   "cell_type": "code",
   "execution_count": null,
   "id": "17d17619",
   "metadata": {},
   "outputs": [],
   "source": [
    "def get_kbo_best_features(model, df, n_features=35, test_size=0.2):\n",
    "    X = df.drop(['batter_id', 'target'], axis=1)\n",
    "    y = df['target']\n",
    "\n",
    "    X_train, X_val, y_train, y_val = train_test_split(X, y, test_size=test_size)\n",
    "    rfe = RFE(estimator=model, n_features_to_select=n_features)\n",
    "    rfe.fit(X_train, y_train)\n",
    "    best_features = list(rfe.get_feature_names_out())\n",
    "    print(\"Best Features: \\n\", best_features)\n",
    "    return best_features"
   ]
  },
  {
   "cell_type": "code",
   "execution_count": 6,
   "id": "24e70fa3",
   "metadata": {
    "ExecuteTime": {
     "end_time": "2022-01-20T07:29:54.903252Z",
     "start_time": "2022-01-20T07:29:52.893613Z"
    }
   },
   "outputs": [
    {
     "name": "stdout",
     "output_type": "stream",
     "text": [
      "Best Features: \n",
      " ['year', 'age', 'G', 'E', 'HR', 'TB', 'RBI', 'BB', 'HBP', 'SH', 'SLG', 'OPS', 'wOBA', 'wRC', 'WAR', 'OBF', 'AF', 'XR', 'teamXR', 'R/PA', 'H/PA', '2B/PA', '3B/PA', 'HR/PA', 'RBI/PA', 'CS/PA', 'BB/PA', 'HBP/PA', 'SO/PA', 'GDP/PA', '1B/PA', 'XBH/PA', 'BOB/PA', '두산', 'nextAB']\n"
     ]
    }
   ],
   "source": [
    "train = df.loc[df['target'] != -1]\n",
    "lgb = LGBMRegressor(n_estimators=50, max_depth=3, n_jobs=-1)\n",
    "\n",
    "best_features = get_kbo_best_features(lgb, train, n_features=35)\n",
    "if 'nextAB' not in best_features:\n",
    "    best_features += ['nextAB']\n",
    "train = train[['batter_id', 'target'] + best_features]"
   ]
  },
  {
   "cell_type": "code",
   "execution_count": null,
   "id": "04fb5d32",
   "metadata": {},
   "outputs": [],
   "source": [
    "def train_kbo_ops_model(model, df, target, drop_columns = ['batter_id', 'target', 'nextAB'], verbose=True):\n",
    "    \n",
    "    score_dict = defaultdict(list)\n",
    "    seasons = sorted(df['year'].unique())\n",
    "    if verbose:\n",
    "        print(\"Input -> Predict\")\n",
    "    print(\"-\" * 45)\n",
    "    for season in seasons:\n",
    "        # train, validation split\n",
    "        train = df[df['year'] != season]\n",
    "        validation = df[df['year'] == season]\n",
    "        AB = validation['nextAB']\n",
    "        X_train, y_train = train.drop(drop_columns, axis=1), train[target]\n",
    "        X_val, y_val = validation.drop(drop_columns, axis=1), validation[target]\n",
    "        \n",
    "        model.fit(X_train, y_train)\n",
    "        \n",
    "        y_pred = model.predict(X_val)\n",
    "        wrmse = weighted_root_mean_squred_error(y_val, y_pred, AB)\n",
    "        rmse = np.sqrt(mean_squared_error(y_val, y_pred))\n",
    "        score_dict['wrmse'].append(wrmse)\n",
    "        score_dict['rmse'].append(rmse)\n",
    "        if verbose:\n",
    "            print(f\"{int(season)} -> {int(season + 1)}: WRMSE = {wrmse:.4f} | RMSE = {rmse:.4f}\")\n",
    "    if verbose:\n",
    "        print(\"-\" * 45)\n",
    "    print(f\"WRMSE avg: {np.mean(score_dict['wrmse']):.4f} | RMSE avg.: {np.mean(score_dict['rmse']):.4f}\")\n",
    "    return model, score_dict    \n",
    "\n",
    "def weighted_root_mean_squred_error(y_true, y_pred, AB):\n",
    "    return np.sqrt(np.sum(((y_true - y_pred) ** 2) * AB) / np.sum(AB))"
   ]
  },
  {
   "cell_type": "code",
   "execution_count": 7,
   "id": "655fd75b",
   "metadata": {
    "ExecuteTime": {
     "end_time": "2022-01-20T07:29:54.919208Z",
     "start_time": "2022-01-20T07:29:54.905246Z"
    }
   },
   "outputs": [],
   "source": [
    "lr = LinearRegression()\n",
    "rdg = Ridge()\n",
    "svm = SVR()\n",
    "rf = RandomForestRegressor(n_estimators=50, max_depth=3, n_jobs=-1)\n",
    "xg = XGBRegressor(n_estimators=50, max_depth=3, n_jobs=-1)\n",
    "lgb = LGBMRegressor(n_estimators=50, max_depth=3, n_jobs=-1)"
   ]
  },
  {
   "cell_type": "code",
   "execution_count": 8,
   "id": "baa5677e",
   "metadata": {
    "ExecuteTime": {
     "end_time": "2022-01-20T07:30:03.387584Z",
     "start_time": "2022-01-20T07:29:54.922201Z"
    }
   },
   "outputs": [
    {
     "name": "stdout",
     "output_type": "stream",
     "text": [
      "---------------------------------------------\n",
      "WRMSE avg: 0.1104 | RMSE avg.: 0.1399\n",
      "---------------------------------------------\n",
      "WRMSE avg: 0.1106 | RMSE avg.: 0.1396\n",
      "---------------------------------------------\n",
      "WRMSE avg: 0.1404 | RMSE avg.: 0.1700\n",
      "---------------------------------------------\n",
      "WRMSE avg: 0.1114 | RMSE avg.: 0.1412\n",
      "---------------------------------------------\n",
      "WRMSE avg: 0.1157 | RMSE avg.: 0.1457\n",
      "---------------------------------------------\n",
      "WRMSE avg: 0.1116 | RMSE avg.: 0.1406\n"
     ]
    }
   ],
   "source": [
    "lr_model, lr_score = train_kbo_ops_model(model=lr, df=train, target='target', verbose=False)\n",
    "rdg_model, rdg_score = train_kbo_ops_model(model=rdg, df=train, target='target', verbose=False)\n",
    "svm_model, svm_score = train_kbo_ops_model(model=svm, df=train, target='target', verbose=False)\n",
    "rf_model, rf_score = train_kbo_ops_model(model=rf, df=train, target='target', verbose=False)\n",
    "xg_model, xg_score = train_kbo_ops_model(model=xg, df=train, target='target', verbose=False)\n",
    "lgb_model, lgb_score = train_kbo_ops_model(model=lgb, df=train, target='target', verbose=False)"
   ]
  },
  {
   "cell_type": "code",
   "execution_count": 9,
   "id": "3fb01090",
   "metadata": {
    "ExecuteTime": {
     "end_time": "2022-01-20T07:30:43.362432Z",
     "start_time": "2022-01-20T07:30:03.391572Z"
    }
   },
   "outputs": [
    {
     "name": "stdout",
     "output_type": "stream",
     "text": [
      "Input -> Predict\n",
      "---------------------------------------------\n",
      "2001 -> 2002: WRMSE = 0.1031 | RMSE = 0.1063\n",
      "2002 -> 2003: WRMSE = 0.1330 | RMSE = 0.1311\n",
      "2003 -> 2004: WRMSE = 0.0937 | RMSE = 0.1461\n",
      "2004 -> 2005: WRMSE = 0.0978 | RMSE = 0.1510\n",
      "2005 -> 2006: WRMSE = 0.1061 | RMSE = 0.1227\n",
      "2006 -> 2007: WRMSE = 0.0979 | RMSE = 0.1276\n",
      "2007 -> 2008: WRMSE = 0.1079 | RMSE = 0.1397\n",
      "2008 -> 2009: WRMSE = 0.1216 | RMSE = 0.1384\n",
      "2009 -> 2010: WRMSE = 0.1203 | RMSE = 0.1269\n",
      "2010 -> 2011: WRMSE = 0.0963 | RMSE = 0.1310\n",
      "2011 -> 2012: WRMSE = 0.1053 | RMSE = 0.1588\n",
      "2012 -> 2013: WRMSE = 0.1088 | RMSE = 0.1579\n",
      "2013 -> 2014: WRMSE = 0.1188 | RMSE = 0.1576\n",
      "2014 -> 2015: WRMSE = 0.1203 | RMSE = 0.1320\n",
      "2015 -> 2016: WRMSE = 0.1172 | RMSE = 0.1502\n",
      "2016 -> 2017: WRMSE = 0.1147 | RMSE = 0.1445\n",
      "2017 -> 2018: WRMSE = 0.1029 | RMSE = 0.1420\n",
      "---------------------------------------------\n",
      "WRMSE avg: 0.1097 | RMSE avg.: 0.1390\n"
     ]
    }
   ],
   "source": [
    "estimators = [('lr', lr), ('rdg', rdg), ('rf', rf), ('xg', xg), ('lgb', lgb)]\n",
    "stk = StackingRegressor(estimators=estimators)\n",
    "stk_model, stk_score = train_kbo_ops_model(model=stk, df=train, target='target', verbose=True)"
   ]
  },
  {
   "cell_type": "code",
   "execution_count": 10,
   "id": "a0eb6237",
   "metadata": {
    "ExecuteTime": {
     "end_time": "2022-01-20T07:30:43.648459Z",
     "start_time": "2022-01-20T07:30:43.364290Z"
    }
   },
   "outputs": [
    {
     "data": {
      "image/png": "[encoded data removed]",
      "text/plain": [
       "<Figure size 576x432 with 1 Axes>"
      ]
     },
     "metadata": {
      "needs_background": "light"
     },
     "output_type": "display_data"
    }
   ],
   "source": [
    "names = ['Linear', 'Ridge', 'RF', 'XG', 'LGB', 'Stacking']\n",
    "results = [lr_score['wrmse'], rdg_score['wrmse'], rf_score['wrmse'], \n",
    "           xg_score['wrmse'], lgb_score['wrmse'], stk_score['wrmse']]\n",
    "\n",
    "plt.figure(figsize=(8, 6))\n",
    "plt.boxplot(results, labels=names, showmeans=True)\n",
    "plt.hlines(xmin=0.5, xmax=6.5, y=np.mean(stk_score['wrmse']), colors='r', \n",
    "           linestyles='--', linewidths=1, label='best score')\n",
    "plt.legend()\n",
    "plt.title('WRMSE score')\n",
    "plt.show();"
   ]
  },
  {
   "cell_type": "code",
   "execution_count": 11,
   "id": "4349ac72",
   "metadata": {
    "ExecuteTime": {
     "end_time": "2022-01-20T07:30:43.867167Z",
     "start_time": "2022-01-20T07:30:43.649456Z"
    }
   },
   "outputs": [
    {
     "data": {
      "image/png": "[encoded data removed]",
      "text/plain": [
       "<Figure size 576x432 with 1 Axes>"
      ]
     },
     "metadata": {
      "needs_background": "light"
     },
     "output_type": "display_data"
    }
   ],
   "source": [
    "names = ['Linear', 'Ridge', 'RF', 'XG', 'LGB', 'Stacking']\n",
    "results = [lr_score['rmse'], rdg_score['rmse'], rf_score['rmse'], \n",
    "           xg_score['rmse'], lgb_score['rmse'], stk_score['rmse']]\n",
    "\n",
    "plt.figure(figsize=(8, 6))\n",
    "plt.boxplot(results, labels=names, showmeans=True)\n",
    "plt.hlines(xmin=0.5, xmax=6.5, y=np.mean(stk_score['rmse']), colors='r', \n",
    "           linestyles='--', linewidths=1, label='best score')\n",
    "plt.legend()\n",
    "plt.title('RMSE score')\n",
    "plt.show();"
   ]
  },
  {
   "cell_type": "code",
   "execution_count": 12,
   "id": "f524ebb0",
   "metadata": {
    "ExecuteTime": {
     "end_time": "2022-01-20T07:30:43.882833Z",
     "start_time": "2022-01-20T07:30:43.868873Z"
    }
   },
   "outputs": [],
   "source": [
    "def preprocess_test(df_origin, aging_curve, best_features, input_season=2018):\n",
    "    test = preprocess(df_origin, Train=False)\n",
    "    rm_outlier, _ = mahalanobis_dist_outlier(test, targets=['AB', 'OPS+'], plot=False)\n",
    "    rm_outlier = rm_outlier.loc[rm_outlier['year'] == input_season]\n",
    "    test = test.loc[test['year'] == input_season]\n",
    "\n",
    "    correct_columns = list(test.select_dtypes(['int', 'float']).columns)\n",
    "    del_columns = ['batter_id', 'year', 'OPS', 'age']\n",
    "    for x in del_columns:\n",
    "        correct_columns.remove(x)\n",
    "\n",
    "    for year in sorted(test.year.unique()):\n",
    "        avg_year = rm_outlier.loc[rm_outlier['year'] == year][correct_columns].mean() # 이상치 제거한 평균\n",
    "        test.loc[test['year'] == year, correct_columns] = test[correct_columns] / avg_year\n",
    "\n",
    "    # Aging Curve\n",
    "    test['age'] = [aging_curve[a] if a != 42 else aging_curve[18] for a in test['age']]\n",
    "\n",
    "    # OPS, age 시즌별 평균으로 나누어 보정 \n",
    "    correct_columns = ['OPS', 'age']\n",
    "    for year in sorted(test.year.unique()):\n",
    "        mean = rm_outlier.loc[rm_outlier['year'] == year][correct_columns].mean() # 이상치 제거한 평균\n",
    "        test.loc[test['year'] == year, correct_columns] = test[correct_columns] / mean\n",
    "        \n",
    "    if 'nextAB' in best_features:\n",
    "        best_features.remove('nextAB')\n",
    "\n",
    "    return test[['batter_id'] + best_features]"
   ]
  },
  {
   "cell_type": "code",
   "execution_count": 13,
   "id": "6d311bc6",
   "metadata": {
    "ExecuteTime": {
     "end_time": "2022-01-20T07:30:44.314381Z",
     "start_time": "2022-01-20T07:30:43.884828Z"
    }
   },
   "outputs": [],
   "source": [
    "submission = pd.read_csv('./submission/submission.csv')\n",
    "y_test = preprocess_test(df_origin=rsb, aging_curve=popt, best_features=best_features, input_season=2018)"
   ]
  },
  {
   "cell_type": "code",
   "execution_count": 14,
   "id": "a3bd8711",
   "metadata": {
    "ExecuteTime": {
     "end_time": "2022-01-20T07:30:44.329655Z",
     "start_time": "2022-01-20T07:30:44.314381Z"
    }
   },
   "outputs": [],
   "source": [
    "def predict_kbo_ops_model(model, y_test, submission, drop_columns=['batter_id']):\n",
    "    y_test = y_test.sort_values('batter_id').reset_index(drop=True)\n",
    "    batter_id = y_test['batter_id']\n",
    "    y_test = y_test.drop(drop_columns, axis=1)\n",
    "    y_pred = pd.DataFrame(model.predict(y_test), columns=['batter_ops'])\n",
    "    y_pred = pd.concat([batter_id, y_pred], axis=1)\n",
    "    submission = pd.merge(submission[['batter_id', 'batter_name']], y_pred, on='batter_id', how='left')\n",
    "    return submission"
   ]
  },
  {
   "cell_type": "code",
   "execution_count": 15,
   "id": "7a7b77e2",
   "metadata": {
    "ExecuteTime": {
     "end_time": "2022-01-20T07:30:44.381230Z",
     "start_time": "2022-01-20T07:30:44.329655Z"
    }
   },
   "outputs": [],
   "source": [
    "y_submission = predict_kbo_ops_model(stk_model, y_test, submission)\n",
    "# y_submission.to_csv('./submission/stk_submission.csv', index=False)"
   ]
  },
  {
   "cell_type": "code",
   "execution_count": null,
   "id": "d203bc72",
   "metadata": {},
   "outputs": [],
   "source": []
  },
  {
   "cell_type": "code",
   "execution_count": null,
   "id": "75c97f95",
   "metadata": {},
   "outputs": [],
   "source": []
  },
  {
   "cell_type": "code",
   "execution_count": null,
   "id": "e97a2148",
   "metadata": {},
   "outputs": [],
   "source": []
  }
 ],
 "metadata": {
  "kernelspec": {
   "display_name": "Python 3 (ipykernel)",
   "language": "python",
   "name": "python3"
  },
  "language_info": {
   "codemirror_mode": {
    "name": "ipython",
    "version": 3
   },
   "file_extension": ".py",
   "mimetype": "text/x-python",
   "name": "python",
   "nbconvert_exporter": "python",
   "pygments_lexer": "ipython3",
   "version": "3.9.5"
  }
 },
 "nbformat": 4,
 "nbformat_minor": 5
}
