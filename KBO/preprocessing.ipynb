{
 "cells": [
  {
   "cell_type": "code",
   "execution_count": 1,
   "id": "2ddfbf38",
   "metadata": {
    "ExecuteTime": {
     "end_time": "2022-01-15T08:27:10.671031Z",
     "start_time": "2022-01-15T08:27:08.676167Z"
    }
   },
   "outputs": [],
   "source": [
    "## 기본 라이브러리\n",
    "import re\n",
    "import warnings\n",
    "import numpy as np\n",
    "import pandas as pd\n",
    "\n",
    "## 시각화 라이브러리\n",
    "import matplotlib\n",
    "import matplotlib.font_manager as fm\n",
    "import matplotlib.pyplot as plt\n",
    "from matplotlib import patches\n",
    "import seaborn as sns\n",
    "import chart_studio\n",
    "import chart_studio.plotly as py\n",
    "import plotly.express as px\n",
    "import plotly.graph_objects as go\n",
    "from chart_studio.plotly import plot, iplot\n",
    "chart_studio.tools.set_credentials_file(username='dr.jeong9320', api_key='ggw0NGVO6S8rS9mrbNCr')\n",
    "\n",
    "## 통계 라이브러리\n",
    "import scipy.stats as stats\n",
    "from scipy.special import boxcox1p\n",
    "from statsmodels.formula.api import ols\n",
    "from statsmodels.stats.anova import anova_lm\n",
    "\n",
    "## 설정\n",
    "warnings.filterwarnings('ignore')\n",
    "pd.set_option(\"display.max_columns\", 200)\n",
    "pd.set_option(\"display.max_rows\", 500)\n",
    "\n",
    "## Matplotlib 한글 폰트 설정\n",
    "fm.get_fontconfig_fonts()\n",
    "# font_location = '/usr/share/fonts/truetype/nanum/NanumGothicOTF.ttf'\n",
    "font_location = 'C:/Windows/Fonts/gulim.ttc' # For Windows\n",
    "font_name = fm.FontProperties(fname=font_location).get_name()\n",
    "matplotlib.rc('font', family=font_name)\n",
    "plt.rc('figure', titlesize=70)\n",
    "\n",
    "%matplotlib inline"
   ]
  },
  {
   "cell_type": "markdown",
   "id": "5198d25d",
   "metadata": {},
   "source": [
    "# Data Load"
   ]
  },
  {
   "cell_type": "markdown",
   "id": "cf16214a",
   "metadata": {},
   "source": [
    "  Dacon에서 \"KBO 타자 OPS 예측 대회\"에서 제공한 데이터셋과 KBO 기록 사이트인 스탯티즈에서 연도별 타자들의 기록을 수집한 데이터를 결합한 데이터셋을 사용하였다.  \n",
    "  1. Regular_Season_Batter.csv: 연도별 정규 시즌 통합 데이터셋으로, Dacon 제공 데이터셋과 스탯티즈에서 크롤링한 데이터를 병합하였다."
   ]
  },
  {
   "cell_type": "code",
   "execution_count": 2,
   "id": "328f6ba7",
   "metadata": {
    "ExecuteTime": {
     "end_time": "2022-01-15T08:27:10.718833Z",
     "start_time": "2022-01-15T08:27:10.671957Z"
    }
   },
   "outputs": [],
   "source": [
    "rsb = pd.read_csv('./data/Regular_Season_Batter.csv') # 정규시즌 + 스탯티즈 크롤링 데이터\n",
    "# psb = pd.read_csv('./data/Pre_Season_Batter.csv') # 프리시즌\n",
    "# rsbd = pd.read_csv('./data/Regular_Season_Batter_Day_by_Day.csv') # 정규시즌 매경기 기록"
   ]
  },
  {
   "cell_type": "code",
   "execution_count": 3,
   "id": "4a278af1",
   "metadata": {
    "ExecuteTime": {
     "end_time": "2022-01-15T08:27:10.734791Z",
     "start_time": "2022-01-15T08:27:10.720826Z"
    }
   },
   "outputs": [],
   "source": [
    "# 과거 팀명 변경\n",
    "rsb.loc[rsb['team'].isin(['현대', '우리', '넥센', '키움']), 'team'] = '히어로즈'\n",
    "rsb.loc[rsb['team'].isin(['OB']), 'team'] = '두산'\n",
    "rsb.loc[rsb['team'].isin(['쌍방울']), 'team'] = 'SK'\n",
    "rsb.loc[rsb['team'].isin(['해태']), 'team'] = 'KIA'"
   ]
  },
  {
   "cell_type": "code",
   "execution_count": 4,
   "id": "c238899d",
   "metadata": {
    "ExecuteTime": {
     "end_time": "2022-01-15T08:27:10.765707Z",
     "start_time": "2022-01-15T08:27:10.737785Z"
    }
   },
   "outputs": [
    {
     "name": "stdout",
     "output_type": "stream",
     "text": [
      "<class 'pandas.core.frame.DataFrame'>\n",
      "RangeIndex: 2454 entries, 0 to 2453\n",
      "Data columns (total 35 columns):\n",
      " #   Column       Non-Null Count  Dtype  \n",
      "---  ------       --------------  -----  \n",
      " 0   batter_id    2454 non-null   int64  \n",
      " 1   batter_name  2454 non-null   object \n",
      " 2   year         2454 non-null   float64\n",
      " 3   age          2454 non-null   int64  \n",
      " 4   position     2289 non-null   object \n",
      " 5   team         2454 non-null   object \n",
      " 6   career       2454 non-null   object \n",
      " 7   G            2454 non-null   int64  \n",
      " 8   E            2454 non-null   int64  \n",
      " 9   PA           2445 non-null   float64\n",
      " 10  AB           2454 non-null   int64  \n",
      " 11  R            2454 non-null   int64  \n",
      " 12  H            2454 non-null   int64  \n",
      " 13  2B           2454 non-null   int64  \n",
      " 14  3B           2454 non-null   int64  \n",
      " 15  HR           2454 non-null   int64  \n",
      " 16  TB           2454 non-null   int64  \n",
      " 17  RBI          2454 non-null   int64  \n",
      " 18  SB           2454 non-null   int64  \n",
      " 19  CS           2454 non-null   int64  \n",
      " 20  BB           2454 non-null   int64  \n",
      " 21  HBP          2454 non-null   int64  \n",
      " 22  IBB          2445 non-null   float64\n",
      " 23  SO           2454 non-null   int64  \n",
      " 24  GDP          2454 non-null   int64  \n",
      " 25  SH           2445 non-null   float64\n",
      " 26  SF           2445 non-null   float64\n",
      " 27  avg          2428 non-null   float64\n",
      " 28  OBP          2431 non-null   float64\n",
      " 29  SLG          2428 non-null   float64\n",
      " 30  OPS          2454 non-null   float64\n",
      " 31  wOBA         2422 non-null   float64\n",
      " 32  wRC          2389 non-null   float64\n",
      " 33  WAR          2432 non-null   float64\n",
      " 34  WPA          1040 non-null   float64\n",
      "dtypes: float64(13), int64(18), object(4)\n",
      "memory usage: 671.1+ KB\n"
     ]
    }
   ],
   "source": [
    "rsb.info()"
   ]
  },
  {
   "cell_type": "code",
   "execution_count": 5,
   "id": "935aed7c",
   "metadata": {
    "ExecuteTime": {
     "end_time": "2022-01-15T08:27:10.875438Z",
     "start_time": "2022-01-15T08:27:10.766708Z"
    }
   },
   "outputs": [
    {
     "data": {
      "text/html": [
       "<div>\n",
       "<style scoped>\n",
       "    .dataframe tbody tr th:only-of-type {\n",
       "        vertical-align: middle;\n",
       "    }\n",
       "\n",
       "    .dataframe tbody tr th {\n",
       "        vertical-align: top;\n",
       "    }\n",
       "\n",
       "    .dataframe thead th {\n",
       "        text-align: right;\n",
       "    }\n",
       "</style>\n",
       "<table border=\"1\" class=\"dataframe\">\n",
       "  <thead>\n",
       "    <tr style=\"text-align: right;\">\n",
       "      <th></th>\n",
       "      <th>batter_id</th>\n",
       "      <th>year</th>\n",
       "      <th>age</th>\n",
       "      <th>G</th>\n",
       "      <th>E</th>\n",
       "      <th>PA</th>\n",
       "      <th>AB</th>\n",
       "      <th>R</th>\n",
       "      <th>H</th>\n",
       "      <th>2B</th>\n",
       "      <th>3B</th>\n",
       "      <th>HR</th>\n",
       "      <th>TB</th>\n",
       "      <th>RBI</th>\n",
       "      <th>SB</th>\n",
       "      <th>CS</th>\n",
       "      <th>BB</th>\n",
       "      <th>HBP</th>\n",
       "      <th>IBB</th>\n",
       "      <th>SO</th>\n",
       "      <th>GDP</th>\n",
       "      <th>SH</th>\n",
       "      <th>SF</th>\n",
       "      <th>avg</th>\n",
       "      <th>OBP</th>\n",
       "      <th>SLG</th>\n",
       "      <th>OPS</th>\n",
       "      <th>wOBA</th>\n",
       "      <th>wRC</th>\n",
       "      <th>WAR</th>\n",
       "      <th>WPA</th>\n",
       "    </tr>\n",
       "  </thead>\n",
       "  <tbody>\n",
       "    <tr>\n",
       "      <th>count</th>\n",
       "      <td>2454.000000</td>\n",
       "      <td>2454.000000</td>\n",
       "      <td>2454.000000</td>\n",
       "      <td>2454.000000</td>\n",
       "      <td>2454.000000</td>\n",
       "      <td>2445.000000</td>\n",
       "      <td>2454.000000</td>\n",
       "      <td>2454.000000</td>\n",
       "      <td>2454.000000</td>\n",
       "      <td>2454.000000</td>\n",
       "      <td>2454.000000</td>\n",
       "      <td>2454.000000</td>\n",
       "      <td>2454.000000</td>\n",
       "      <td>2454.000000</td>\n",
       "      <td>2454.000000</td>\n",
       "      <td>2454.000000</td>\n",
       "      <td>2454.000000</td>\n",
       "      <td>2454.000000</td>\n",
       "      <td>2445.000000</td>\n",
       "      <td>2454.000000</td>\n",
       "      <td>2454.000000</td>\n",
       "      <td>2445.000000</td>\n",
       "      <td>2445.000000</td>\n",
       "      <td>2428.000000</td>\n",
       "      <td>2431.000000</td>\n",
       "      <td>2428.000000</td>\n",
       "      <td>2454.000000</td>\n",
       "      <td>2422.000000</td>\n",
       "      <td>2389.000000</td>\n",
       "      <td>2432.000000</td>\n",
       "      <td>1040.000000</td>\n",
       "    </tr>\n",
       "    <tr>\n",
       "      <th>mean</th>\n",
       "      <td>178.079462</td>\n",
       "      <td>2011.614507</td>\n",
       "      <td>27.104319</td>\n",
       "      <td>72.534230</td>\n",
       "      <td>3.676447</td>\n",
       "      <td>230.713292</td>\n",
       "      <td>201.513447</td>\n",
       "      <td>29.911980</td>\n",
       "      <td>55.988590</td>\n",
       "      <td>9.863896</td>\n",
       "      <td>0.957213</td>\n",
       "      <td>5.504075</td>\n",
       "      <td>84.279136</td>\n",
       "      <td>27.789731</td>\n",
       "      <td>5.289731</td>\n",
       "      <td>2.335778</td>\n",
       "      <td>20.943765</td>\n",
       "      <td>3.424613</td>\n",
       "      <td>0.778732</td>\n",
       "      <td>38.596170</td>\n",
       "      <td>4.603504</td>\n",
       "      <td>3.384049</td>\n",
       "      <td>1.806953</td>\n",
       "      <td>0.237566</td>\n",
       "      <td>0.306699</td>\n",
       "      <td>0.344890</td>\n",
       "      <td>0.644243</td>\n",
       "      <td>0.296642</td>\n",
       "      <td>70.802637</td>\n",
       "      <td>1.108890</td>\n",
       "      <td>0.528010</td>\n",
       "    </tr>\n",
       "    <tr>\n",
       "      <th>std</th>\n",
       "      <td>97.557947</td>\n",
       "      <td>4.992833</td>\n",
       "      <td>4.686211</td>\n",
       "      <td>45.094061</td>\n",
       "      <td>4.585248</td>\n",
       "      <td>194.775499</td>\n",
       "      <td>169.536433</td>\n",
       "      <td>28.778864</td>\n",
       "      <td>52.253551</td>\n",
       "      <td>9.871257</td>\n",
       "      <td>1.647307</td>\n",
       "      <td>7.989380</td>\n",
       "      <td>82.854063</td>\n",
       "      <td>29.602458</td>\n",
       "      <td>9.088661</td>\n",
       "      <td>3.194045</td>\n",
       "      <td>21.206113</td>\n",
       "      <td>4.132614</td>\n",
       "      <td>1.847643</td>\n",
       "      <td>31.800738</td>\n",
       "      <td>4.714049</td>\n",
       "      <td>4.502880</td>\n",
       "      <td>2.253828</td>\n",
       "      <td>0.098440</td>\n",
       "      <td>0.109896</td>\n",
       "      <td>0.162309</td>\n",
       "      <td>0.265685</td>\n",
       "      <td>0.111984</td>\n",
       "      <td>72.688191</td>\n",
       "      <td>1.788971</td>\n",
       "      <td>1.570807</td>\n",
       "    </tr>\n",
       "    <tr>\n",
       "      <th>min</th>\n",
       "      <td>0.000000</td>\n",
       "      <td>1993.000000</td>\n",
       "      <td>18.000000</td>\n",
       "      <td>1.000000</td>\n",
       "      <td>0.000000</td>\n",
       "      <td>0.000000</td>\n",
       "      <td>0.000000</td>\n",
       "      <td>0.000000</td>\n",
       "      <td>0.000000</td>\n",
       "      <td>0.000000</td>\n",
       "      <td>0.000000</td>\n",
       "      <td>0.000000</td>\n",
       "      <td>0.000000</td>\n",
       "      <td>0.000000</td>\n",
       "      <td>0.000000</td>\n",
       "      <td>0.000000</td>\n",
       "      <td>0.000000</td>\n",
       "      <td>0.000000</td>\n",
       "      <td>0.000000</td>\n",
       "      <td>0.000000</td>\n",
       "      <td>0.000000</td>\n",
       "      <td>0.000000</td>\n",
       "      <td>0.000000</td>\n",
       "      <td>0.000000</td>\n",
       "      <td>0.000000</td>\n",
       "      <td>0.000000</td>\n",
       "      <td>0.000000</td>\n",
       "      <td>0.000000</td>\n",
       "      <td>-141.900000</td>\n",
       "      <td>-2.040000</td>\n",
       "      <td>-2.380000</td>\n",
       "    </tr>\n",
       "    <tr>\n",
       "      <th>25%</th>\n",
       "      <td>101.250000</td>\n",
       "      <td>2008.000000</td>\n",
       "      <td>24.000000</td>\n",
       "      <td>28.000000</td>\n",
       "      <td>0.000000</td>\n",
       "      <td>43.000000</td>\n",
       "      <td>38.250000</td>\n",
       "      <td>5.000000</td>\n",
       "      <td>8.000000</td>\n",
       "      <td>1.000000</td>\n",
       "      <td>0.000000</td>\n",
       "      <td>0.000000</td>\n",
       "      <td>10.000000</td>\n",
       "      <td>3.000000</td>\n",
       "      <td>0.000000</td>\n",
       "      <td>0.000000</td>\n",
       "      <td>3.000000</td>\n",
       "      <td>0.000000</td>\n",
       "      <td>0.000000</td>\n",
       "      <td>10.000000</td>\n",
       "      <td>1.000000</td>\n",
       "      <td>0.000000</td>\n",
       "      <td>0.000000</td>\n",
       "      <td>0.203000</td>\n",
       "      <td>0.273000</td>\n",
       "      <td>0.269000</td>\n",
       "      <td>0.541250</td>\n",
       "      <td>0.256250</td>\n",
       "      <td>43.100000</td>\n",
       "      <td>-0.080000</td>\n",
       "      <td>-0.350000</td>\n",
       "    </tr>\n",
       "    <tr>\n",
       "      <th>50%</th>\n",
       "      <td>183.000000</td>\n",
       "      <td>2013.000000</td>\n",
       "      <td>27.000000</td>\n",
       "      <td>79.000000</td>\n",
       "      <td>2.000000</td>\n",
       "      <td>189.000000</td>\n",
       "      <td>163.000000</td>\n",
       "      <td>21.000000</td>\n",
       "      <td>40.000000</td>\n",
       "      <td>7.000000</td>\n",
       "      <td>0.000000</td>\n",
       "      <td>2.000000</td>\n",
       "      <td>56.000000</td>\n",
       "      <td>17.000000</td>\n",
       "      <td>2.000000</td>\n",
       "      <td>1.000000</td>\n",
       "      <td>14.000000</td>\n",
       "      <td>2.000000</td>\n",
       "      <td>0.000000</td>\n",
       "      <td>33.000000</td>\n",
       "      <td>3.000000</td>\n",
       "      <td>2.000000</td>\n",
       "      <td>1.000000</td>\n",
       "      <td>0.255000</td>\n",
       "      <td>0.328000</td>\n",
       "      <td>0.361000</td>\n",
       "      <td>0.686000</td>\n",
       "      <td>0.314000</td>\n",
       "      <td>82.200000</td>\n",
       "      <td>0.290000</td>\n",
       "      <td>-0.010000</td>\n",
       "    </tr>\n",
       "    <tr>\n",
       "      <th>75%</th>\n",
       "      <td>265.000000</td>\n",
       "      <td>2016.000000</td>\n",
       "      <td>30.000000</td>\n",
       "      <td>115.000000</td>\n",
       "      <td>5.000000</td>\n",
       "      <td>408.000000</td>\n",
       "      <td>357.500000</td>\n",
       "      <td>49.000000</td>\n",
       "      <td>100.000000</td>\n",
       "      <td>16.000000</td>\n",
       "      <td>1.000000</td>\n",
       "      <td>8.000000</td>\n",
       "      <td>146.000000</td>\n",
       "      <td>44.000000</td>\n",
       "      <td>6.000000</td>\n",
       "      <td>3.000000</td>\n",
       "      <td>34.000000</td>\n",
       "      <td>5.000000</td>\n",
       "      <td>1.000000</td>\n",
       "      <td>60.000000</td>\n",
       "      <td>7.000000</td>\n",
       "      <td>5.000000</td>\n",
       "      <td>3.000000</td>\n",
       "      <td>0.291000</td>\n",
       "      <td>0.367000</td>\n",
       "      <td>0.436000</td>\n",
       "      <td>0.795000</td>\n",
       "      <td>0.359000</td>\n",
       "      <td>111.200000</td>\n",
       "      <td>1.850000</td>\n",
       "      <td>0.970000</td>\n",
       "    </tr>\n",
       "    <tr>\n",
       "      <th>max</th>\n",
       "      <td>344.000000</td>\n",
       "      <td>2018.000000</td>\n",
       "      <td>42.000000</td>\n",
       "      <td>144.000000</td>\n",
       "      <td>30.000000</td>\n",
       "      <td>672.000000</td>\n",
       "      <td>600.000000</td>\n",
       "      <td>135.000000</td>\n",
       "      <td>201.000000</td>\n",
       "      <td>47.000000</td>\n",
       "      <td>17.000000</td>\n",
       "      <td>53.000000</td>\n",
       "      <td>377.000000</td>\n",
       "      <td>146.000000</td>\n",
       "      <td>84.000000</td>\n",
       "      <td>21.000000</td>\n",
       "      <td>108.000000</td>\n",
       "      <td>27.000000</td>\n",
       "      <td>30.000000</td>\n",
       "      <td>161.000000</td>\n",
       "      <td>24.000000</td>\n",
       "      <td>41.000000</td>\n",
       "      <td>16.000000</td>\n",
       "      <td>1.000000</td>\n",
       "      <td>1.000000</td>\n",
       "      <td>3.000000</td>\n",
       "      <td>4.000000</td>\n",
       "      <td>1.636000</td>\n",
       "      <td>978.500000</td>\n",
       "      <td>11.770000</td>\n",
       "      <td>7.820000</td>\n",
       "    </tr>\n",
       "  </tbody>\n",
       "</table>\n",
       "</div>"
      ],
      "text/plain": [
       "         batter_id         year          age            G            E  \\\n",
       "count  2454.000000  2454.000000  2454.000000  2454.000000  2454.000000   \n",
       "mean    178.079462  2011.614507    27.104319    72.534230     3.676447   \n",
       "std      97.557947     4.992833     4.686211    45.094061     4.585248   \n",
       "min       0.000000  1993.000000    18.000000     1.000000     0.000000   \n",
       "25%     101.250000  2008.000000    24.000000    28.000000     0.000000   \n",
       "50%     183.000000  2013.000000    27.000000    79.000000     2.000000   \n",
       "75%     265.000000  2016.000000    30.000000   115.000000     5.000000   \n",
       "max     344.000000  2018.000000    42.000000   144.000000    30.000000   \n",
       "\n",
       "                PA           AB            R            H           2B  \\\n",
       "count  2445.000000  2454.000000  2454.000000  2454.000000  2454.000000   \n",
       "mean    230.713292   201.513447    29.911980    55.988590     9.863896   \n",
       "std     194.775499   169.536433    28.778864    52.253551     9.871257   \n",
       "min       0.000000     0.000000     0.000000     0.000000     0.000000   \n",
       "25%      43.000000    38.250000     5.000000     8.000000     1.000000   \n",
       "50%     189.000000   163.000000    21.000000    40.000000     7.000000   \n",
       "75%     408.000000   357.500000    49.000000   100.000000    16.000000   \n",
       "max     672.000000   600.000000   135.000000   201.000000    47.000000   \n",
       "\n",
       "                3B           HR           TB          RBI           SB  \\\n",
       "count  2454.000000  2454.000000  2454.000000  2454.000000  2454.000000   \n",
       "mean      0.957213     5.504075    84.279136    27.789731     5.289731   \n",
       "std       1.647307     7.989380    82.854063    29.602458     9.088661   \n",
       "min       0.000000     0.000000     0.000000     0.000000     0.000000   \n",
       "25%       0.000000     0.000000    10.000000     3.000000     0.000000   \n",
       "50%       0.000000     2.000000    56.000000    17.000000     2.000000   \n",
       "75%       1.000000     8.000000   146.000000    44.000000     6.000000   \n",
       "max      17.000000    53.000000   377.000000   146.000000    84.000000   \n",
       "\n",
       "                CS           BB          HBP          IBB           SO  \\\n",
       "count  2454.000000  2454.000000  2454.000000  2445.000000  2454.000000   \n",
       "mean      2.335778    20.943765     3.424613     0.778732    38.596170   \n",
       "std       3.194045    21.206113     4.132614     1.847643    31.800738   \n",
       "min       0.000000     0.000000     0.000000     0.000000     0.000000   \n",
       "25%       0.000000     3.000000     0.000000     0.000000    10.000000   \n",
       "50%       1.000000    14.000000     2.000000     0.000000    33.000000   \n",
       "75%       3.000000    34.000000     5.000000     1.000000    60.000000   \n",
       "max      21.000000   108.000000    27.000000    30.000000   161.000000   \n",
       "\n",
       "               GDP           SH           SF          avg          OBP  \\\n",
       "count  2454.000000  2445.000000  2445.000000  2428.000000  2431.000000   \n",
       "mean      4.603504     3.384049     1.806953     0.237566     0.306699   \n",
       "std       4.714049     4.502880     2.253828     0.098440     0.109896   \n",
       "min       0.000000     0.000000     0.000000     0.000000     0.000000   \n",
       "25%       1.000000     0.000000     0.000000     0.203000     0.273000   \n",
       "50%       3.000000     2.000000     1.000000     0.255000     0.328000   \n",
       "75%       7.000000     5.000000     3.000000     0.291000     0.367000   \n",
       "max      24.000000    41.000000    16.000000     1.000000     1.000000   \n",
       "\n",
       "               SLG          OPS         wOBA          wRC          WAR  \\\n",
       "count  2428.000000  2454.000000  2422.000000  2389.000000  2432.000000   \n",
       "mean      0.344890     0.644243     0.296642    70.802637     1.108890   \n",
       "std       0.162309     0.265685     0.111984    72.688191     1.788971   \n",
       "min       0.000000     0.000000     0.000000  -141.900000    -2.040000   \n",
       "25%       0.269000     0.541250     0.256250    43.100000    -0.080000   \n",
       "50%       0.361000     0.686000     0.314000    82.200000     0.290000   \n",
       "75%       0.436000     0.795000     0.359000   111.200000     1.850000   \n",
       "max       3.000000     4.000000     1.636000   978.500000    11.770000   \n",
       "\n",
       "               WPA  \n",
       "count  1040.000000  \n",
       "mean      0.528010  \n",
       "std       1.570807  \n",
       "min      -2.380000  \n",
       "25%      -0.350000  \n",
       "50%      -0.010000  \n",
       "75%       0.970000  \n",
       "max       7.820000  "
      ]
     },
     "execution_count": 5,
     "metadata": {},
     "output_type": "execute_result"
    }
   ],
   "source": [
    "rsb.describe()"
   ]
  },
  {
   "cell_type": "markdown",
   "id": "6a6c3676",
   "metadata": {},
   "source": [
    "# Missing Value"
   ]
  },
  {
   "cell_type": "code",
   "execution_count": 6,
   "id": "e39ad6ae",
   "metadata": {
    "ExecuteTime": {
     "end_time": "2022-01-15T08:27:10.907353Z",
     "start_time": "2022-01-15T08:27:10.877436Z"
    }
   },
   "outputs": [
    {
     "name": "stdout",
     "output_type": "stream",
     "text": [
      "Missing value count\n",
      "batter_id :  0\n",
      "batter_name :  0\n",
      "year :  0\n",
      "age :  0\n",
      "position :  165\n",
      "team :  0\n",
      "career :  0\n",
      "G :  0\n",
      "E :  0\n",
      "PA :  9\n",
      "AB :  0\n",
      "R :  0\n",
      "H :  0\n",
      "2B :  0\n",
      "3B :  0\n",
      "HR :  0\n",
      "TB :  0\n",
      "RBI :  0\n",
      "SB :  0\n",
      "CS :  0\n",
      "BB :  0\n",
      "HBP :  0\n",
      "IBB :  9\n",
      "SO :  0\n",
      "GDP :  0\n",
      "SH :  9\n",
      "SF :  9\n",
      "avg :  26\n",
      "OBP :  23\n",
      "SLG :  26\n",
      "OPS :  0\n",
      "wOBA :  32\n",
      "wRC :  65\n",
      "WAR :  22\n",
      "WPA :  1414\n"
     ]
    }
   ],
   "source": [
    "# Missing value 확인\n",
    "print(\"Missing value count\")\n",
    "for col in rsb.columns:\n",
    "    print(col, \": \", rsb[col].isna().sum())"
   ]
  },
  {
   "cell_type": "markdown",
   "id": "64ce2bc8",
   "metadata": {},
   "source": [
    "### OPS, SLG, OBP\n",
    "\n",
    "SLG(장타율), OBP(출루율)이 null인 경우는 장타, 출루 기록이 없기 때문이다. 따라서 0으로 null값을 처리해주었다.  \n",
    "> $OPS=SLG + OBP$  \n",
    "> $SLG = (단타 + 2×2루타 + 3×3루타 + 4×홈런)÷타수$  \n",
    "> $OBP = (안타 + 사사구) ÷ (타수 + 사사구 + 희생플라이)$ \n",
    "\n",
    "이므로 OPS의 null은 SLG + OBP 로 처리했다."
   ]
  },
  {
   "cell_type": "code",
   "execution_count": 7,
   "id": "569c2256",
   "metadata": {
    "ExecuteTime": {
     "end_time": "2022-01-15T08:27:10.923320Z",
     "start_time": "2022-01-15T08:27:10.908324Z"
    }
   },
   "outputs": [],
   "source": [
    "# 장타율, 출루율의 null값은 0으로 처리\n",
    "df = rsb.copy()\n",
    "df.loc[df['OBP'].isna(), 'OBP'] = 0\n",
    "df.loc[df['SLG'].isna(), 'SLG'] = 0\n",
    "df['OPS'] = df['OBP'] + df['SLG']"
   ]
  },
  {
   "cell_type": "markdown",
   "id": "f41fcd78",
   "metadata": {},
   "source": [
    "### AVG  \n",
    "\n",
    "> $AVG = 안타(H) / 타수(AB)$  \n",
    "> $AB = 타석 - (볼넷 + 사구 + 희생플라이 + 희생번트)$\n",
    "\n",
    "AVG가 null인 경우, 0으로 처리"
   ]
  },
  {
   "cell_type": "code",
   "execution_count": 8,
   "id": "88c7a9df",
   "metadata": {
    "ExecuteTime": {
     "end_time": "2022-01-15T08:27:10.939244Z",
     "start_time": "2022-01-15T08:27:10.925307Z"
    }
   },
   "outputs": [],
   "source": [
    "df.loc[df['avg'].isna(), 'avg'] = 0"
   ]
  },
  {
   "cell_type": "markdown",
   "id": "521e9fb3",
   "metadata": {},
   "source": [
    "### PA\n",
    "> PA = 타수(AB) + 볼넷 + 사사구 + 희생번트 + 희생플라이"
   ]
  },
  {
   "cell_type": "code",
   "execution_count": 9,
   "id": "dfbc196c",
   "metadata": {
    "ExecuteTime": {
     "end_time": "2022-01-15T08:27:10.969197Z",
     "start_time": "2022-01-15T08:27:10.944230Z"
    }
   },
   "outputs": [],
   "source": [
    "pa_na = df.loc[df['PA'].isna()] \n",
    "df.loc[df['PA'].isna(), 'PA'] = pa_na[['AB', 'BB', 'SB', 'SF', 'SH']].sum(axis=1)"
   ]
  },
  {
   "cell_type": "markdown",
   "id": "36363230",
   "metadata": {},
   "source": [
    "### IBB, SH, SF\n",
    "  \n",
    "  타석 대비 IBB, SH, SF의 평균값을 타석에 곱해서 구한다."
   ]
  },
  {
   "cell_type": "code",
   "execution_count": 10,
   "id": "cd7067c4",
   "metadata": {
    "ExecuteTime": {
     "end_time": "2022-01-15T08:27:10.984123Z",
     "start_time": "2022-01-15T08:27:10.971156Z"
    }
   },
   "outputs": [],
   "source": [
    "df_tmp = df.loc[(df['batter_id'] != 201) & (df['PA'] != 0)][['PA', 'IBB', 'SH', 'SF']]"
   ]
  },
  {
   "cell_type": "code",
   "execution_count": 11,
   "id": "97b174fb",
   "metadata": {
    "ExecuteTime": {
     "end_time": "2022-01-15T08:27:11.000080Z",
     "start_time": "2022-01-15T08:27:10.986118Z"
    }
   },
   "outputs": [],
   "source": [
    "for col in df_tmp.columns[1:]:\n",
    "    df_tmp[col + '/PA'] = df_tmp[col] / df_tmp['PA']"
   ]
  },
  {
   "cell_type": "code",
   "execution_count": 12,
   "id": "a7ed7f75",
   "metadata": {
    "ExecuteTime": {
     "end_time": "2022-01-15T08:27:11.032038Z",
     "start_time": "2022-01-15T08:27:11.002075Z"
    }
   },
   "outputs": [
    {
     "data": {
      "text/html": [
       "<div>\n",
       "<style scoped>\n",
       "    .dataframe tbody tr th:only-of-type {\n",
       "        vertical-align: middle;\n",
       "    }\n",
       "\n",
       "    .dataframe tbody tr th {\n",
       "        vertical-align: top;\n",
       "    }\n",
       "\n",
       "    .dataframe thead th {\n",
       "        text-align: right;\n",
       "    }\n",
       "</style>\n",
       "<table border=\"1\" class=\"dataframe\">\n",
       "  <thead>\n",
       "    <tr style=\"text-align: right;\">\n",
       "      <th></th>\n",
       "      <th>PA</th>\n",
       "      <th>IBB</th>\n",
       "      <th>SH</th>\n",
       "      <th>SF</th>\n",
       "      <th>IBB/PA</th>\n",
       "      <th>SH/PA</th>\n",
       "      <th>SF/PA</th>\n",
       "    </tr>\n",
       "  </thead>\n",
       "  <tbody>\n",
       "    <tr>\n",
       "      <th>count</th>\n",
       "      <td>2415.000000</td>\n",
       "      <td>2415.000000</td>\n",
       "      <td>2415.000000</td>\n",
       "      <td>2415.000000</td>\n",
       "      <td>2415.000000</td>\n",
       "      <td>2415.000000</td>\n",
       "      <td>2415.000000</td>\n",
       "    </tr>\n",
       "    <tr>\n",
       "      <th>mean</th>\n",
       "      <td>232.487371</td>\n",
       "      <td>0.786335</td>\n",
       "      <td>3.408282</td>\n",
       "      <td>1.826087</td>\n",
       "      <td>0.002134</td>\n",
       "      <td>0.016063</td>\n",
       "      <td>0.007240</td>\n",
       "    </tr>\n",
       "    <tr>\n",
       "      <th>std</th>\n",
       "      <td>194.166275</td>\n",
       "      <td>1.856910</td>\n",
       "      <td>4.513509</td>\n",
       "      <td>2.260294</td>\n",
       "      <td>0.006228</td>\n",
       "      <td>0.021348</td>\n",
       "      <td>0.025178</td>\n",
       "    </tr>\n",
       "    <tr>\n",
       "      <th>min</th>\n",
       "      <td>1.000000</td>\n",
       "      <td>0.000000</td>\n",
       "      <td>0.000000</td>\n",
       "      <td>0.000000</td>\n",
       "      <td>0.000000</td>\n",
       "      <td>0.000000</td>\n",
       "      <td>0.000000</td>\n",
       "    </tr>\n",
       "    <tr>\n",
       "      <th>25%</th>\n",
       "      <td>45.500000</td>\n",
       "      <td>0.000000</td>\n",
       "      <td>0.000000</td>\n",
       "      <td>0.000000</td>\n",
       "      <td>0.000000</td>\n",
       "      <td>0.000000</td>\n",
       "      <td>0.000000</td>\n",
       "    </tr>\n",
       "    <tr>\n",
       "      <th>50%</th>\n",
       "      <td>192.000000</td>\n",
       "      <td>0.000000</td>\n",
       "      <td>2.000000</td>\n",
       "      <td>1.000000</td>\n",
       "      <td>0.000000</td>\n",
       "      <td>0.009434</td>\n",
       "      <td>0.004525</td>\n",
       "    </tr>\n",
       "    <tr>\n",
       "      <th>75%</th>\n",
       "      <td>410.000000</td>\n",
       "      <td>1.000000</td>\n",
       "      <td>5.000000</td>\n",
       "      <td>3.000000</td>\n",
       "      <td>0.002347</td>\n",
       "      <td>0.024838</td>\n",
       "      <td>0.010000</td>\n",
       "    </tr>\n",
       "    <tr>\n",
       "      <th>max</th>\n",
       "      <td>672.000000</td>\n",
       "      <td>30.000000</td>\n",
       "      <td>41.000000</td>\n",
       "      <td>16.000000</td>\n",
       "      <td>0.200000</td>\n",
       "      <td>0.250000</td>\n",
       "      <td>1.000000</td>\n",
       "    </tr>\n",
       "  </tbody>\n",
       "</table>\n",
       "</div>"
      ],
      "text/plain": [
       "                PA          IBB           SH           SF       IBB/PA  \\\n",
       "count  2415.000000  2415.000000  2415.000000  2415.000000  2415.000000   \n",
       "mean    232.487371     0.786335     3.408282     1.826087     0.002134   \n",
       "std     194.166275     1.856910     4.513509     2.260294     0.006228   \n",
       "min       1.000000     0.000000     0.000000     0.000000     0.000000   \n",
       "25%      45.500000     0.000000     0.000000     0.000000     0.000000   \n",
       "50%     192.000000     0.000000     2.000000     1.000000     0.000000   \n",
       "75%     410.000000     1.000000     5.000000     3.000000     0.002347   \n",
       "max     672.000000    30.000000    41.000000    16.000000     0.200000   \n",
       "\n",
       "             SH/PA        SF/PA  \n",
       "count  2415.000000  2415.000000  \n",
       "mean      0.016063     0.007240  \n",
       "std       0.021348     0.025178  \n",
       "min       0.000000     0.000000  \n",
       "25%       0.000000     0.000000  \n",
       "50%       0.009434     0.004525  \n",
       "75%       0.024838     0.010000  \n",
       "max       0.250000     1.000000  "
      ]
     },
     "execution_count": 12,
     "metadata": {},
     "output_type": "execute_result"
    }
   ],
   "source": [
    "df_tmp.describe()"
   ]
  },
  {
   "cell_type": "code",
   "execution_count": 13,
   "id": "04aaed7a",
   "metadata": {
    "ExecuteTime": {
     "end_time": "2022-01-15T08:27:11.047743Z",
     "start_time": "2022-01-15T08:27:11.033988Z"
    }
   },
   "outputs": [],
   "source": [
    "df.loc[df['IBB'].isna(), 'IBB'] = round(df.loc[df['IBB'].isna()]['PA'] * 0.002) \n",
    "df.loc[df['SH'].isna(), 'SH'] = round(df.loc[df['SH'].isna()]['PA'] * 0.016) \n",
    "df.loc[df['SF'].isna(), 'SF'] = round(df.loc[df['SF'].isna()]['PA'] * 0.007) "
   ]
  },
  {
   "cell_type": "markdown",
   "id": "facea0c8",
   "metadata": {},
   "source": [
    "### WPA\n",
    "\n",
    " 다음과 같은 이유로 WPA 열을 제거하였다.\n",
    "1. 승리확률 확산으로 본 데이터셋에서는 null값이 과반 이상(57%)이다.\n",
    "2. 좋은 선수일수록 WPA 값이 높다는 상관관계는 존재하지만, 선수 분석이나 미래 예측에 있어서는 잘 쓰이지 않는다."
   ]
  },
  {
   "cell_type": "code",
   "execution_count": 14,
   "id": "0f6fbfcf",
   "metadata": {
    "ExecuteTime": {
     "end_time": "2022-01-15T08:27:11.063700Z",
     "start_time": "2022-01-15T08:27:11.048740Z"
    }
   },
   "outputs": [],
   "source": [
    "df = df.drop('WPA', axis=1)"
   ]
  },
  {
   "cell_type": "markdown",
   "id": "9f1e694c",
   "metadata": {},
   "source": [
    "### wOBA, wRC\n",
    "\n",
    "1. wOBA가 null인 선수들은 대부분의 기록이 0이기 때문에 0으로 처리.\n",
    "2. wRC도 마찬가지로 0으로 처리"
   ]
  },
  {
   "cell_type": "code",
   "execution_count": 15,
   "id": "5744d3c7",
   "metadata": {
    "ExecuteTime": {
     "end_time": "2022-01-15T08:27:11.079691Z",
     "start_time": "2022-01-15T08:27:11.065693Z"
    }
   },
   "outputs": [],
   "source": [
    "df['wOBA'] = df['wOBA'].fillna(0)\n",
    "df['wRC'] = df['wRC'].fillna(0)"
   ]
  },
  {
   "cell_type": "markdown",
   "id": "373666f5",
   "metadata": {},
   "source": [
    "### WAR\n",
    "\n",
    "1. TB, R과 같은 변수와 상관관계가 높고 선형관계를 보이기 때문에 회귀분석을 통해 null값을 구했다."
   ]
  },
  {
   "cell_type": "code",
   "execution_count": 16,
   "id": "b0096d29",
   "metadata": {
    "ExecuteTime": {
     "end_time": "2022-01-15T08:27:11.095617Z",
     "start_time": "2022-01-15T08:27:11.080652Z"
    }
   },
   "outputs": [
    {
     "data": {
      "text/plain": [
       "WAR    1.000000\n",
       "TB     0.881610\n",
       "R      0.855062\n",
       "RBI    0.854692\n",
       "H      0.851652\n",
       "BB     0.846283\n",
       "2B     0.821537\n",
       "PA     0.803700\n",
       "HR     0.798302\n",
       "AB     0.792181\n",
       "Name: WAR, dtype: float64"
      ]
     },
     "execution_count": 16,
     "metadata": {},
     "output_type": "execute_result"
    }
   ],
   "source": [
    "df.corr()['WAR'].abs().sort_values(ascending=False)[:10]"
   ]
  },
  {
   "cell_type": "code",
   "execution_count": 17,
   "id": "d43ff74b",
   "metadata": {
    "ExecuteTime": {
     "end_time": "2022-01-15T08:27:11.111570Z",
     "start_time": "2022-01-15T08:27:11.096611Z"
    }
   },
   "outputs": [],
   "source": [
    "def outlier(df, column, weight=1.5):\n",
    "    q1, q3 = np.percentile(df[column], [25, 75])\n",
    "    iqr = q3 - q1\n",
    "    \n",
    "    lower_bound = q1 - (iqr * weight)\n",
    "    upper_bound = q3 + (iqr * weight)\n",
    "    \n",
    "    return df.loc[(df[column] >= lower_bound) &\n",
    "                   (df[column] <= upper_bound)].reset_index(drop=True)"
   ]
  },
  {
   "cell_type": "code",
   "execution_count": 18,
   "id": "2380a91e",
   "metadata": {
    "ExecuteTime": {
     "end_time": "2022-01-15T08:27:11.127527Z",
     "start_time": "2022-01-15T08:27:11.112567Z"
    }
   },
   "outputs": [],
   "source": [
    "df_war = df.copy()\n",
    "df_war = df_war.drop(['batter_id', 'batter_name', 'team', 'position', 'career'], axis=1)\n",
    "test_war = df_war.loc[df_war['WAR'].isna()]\n",
    "train_war = df_war.loc[df_war['WAR'].isna() == False]\n",
    "train_war = outlier(train_war, 'WAR')"
   ]
  },
  {
   "cell_type": "code",
   "execution_count": 19,
   "id": "9b159fb5",
   "metadata": {
    "ExecuteTime": {
     "end_time": "2022-01-15T08:27:11.427046Z",
     "start_time": "2022-01-15T08:27:11.128525Z"
    }
   },
   "outputs": [
    {
     "name": "stdout",
     "output_type": "stream",
     "text": [
      "Linear Regression MSE: 0.4114659005220939\n"
     ]
    }
   ],
   "source": [
    "from sklearn.linear_model import LinearRegression, Lasso, Ridge\n",
    "from sklearn.tree import DecisionTreeRegressor\n",
    "from sklearn.model_selection import train_test_split\n",
    "from sklearn.metrics import mean_squared_error\n",
    "\n",
    "X_train_war, X_val_war, y_train_war, y_val_war = train_test_split(train_war.drop(['WAR'], axis=1),\n",
    "                                                                  train_war['WAR'],\n",
    "                                                                  test_size=0.2)\n",
    "\n",
    "\n",
    "lr = LinearRegression()\n",
    "lr.fit(X_train_war[['TB']], y_train_war)\n",
    "lr_pred = lr.predict(X_val_war[['TB']])\n",
    "print(\"Linear Regression MSE:\", mean_squared_error(y_val_war, lr_pred))\n",
    "\n",
    "y_pred = lr.predict(test_war[['TB']])\n",
    "df.loc[df['WAR'].isna(), 'WAR'] = y_pred"
   ]
  },
  {
   "cell_type": "code",
   "execution_count": 20,
   "id": "fe648b2a",
   "metadata": {
    "ExecuteTime": {
     "end_time": "2022-01-15T08:27:11.758093Z",
     "start_time": "2022-01-15T08:27:11.429963Z"
    }
   },
   "outputs": [
    {
     "name": "stdout",
     "output_type": "stream",
     "text": [
      "                                 OLS Regression Results                                \n",
      "=======================================================================================\n",
      "Dep. Variable:                    WAR   R-squared (uncentered):                   0.793\n",
      "Model:                            OLS   Adj. R-squared (uncentered):              0.793\n",
      "Method:                 Least Squares   F-statistic:                              6989.\n",
      "Date:                Sat, 15 Jan 2022   Prob (F-statistic):                        0.00\n",
      "Time:                        17:27:11   Log-Likelihood:                         -1947.4\n",
      "No. Observations:                1826   AIC:                                      3897.\n",
      "Df Residuals:                    1825   BIC:                                      3902.\n",
      "Df Model:                           1                                                  \n",
      "Covariance Type:            nonrobust                                                  \n",
      "==============================================================================\n",
      "                 coef    std err          t      P>|t|      [0.025      0.975]\n",
      "------------------------------------------------------------------------------\n",
      "TB             0.0133      0.000     83.599      0.000       0.013       0.014\n",
      "==============================================================================\n",
      "Omnibus:                      126.746   Durbin-Watson:                   1.811\n",
      "Prob(Omnibus):                  0.000   Jarque-Bera (JB):              333.060\n",
      "Skew:                           0.379   Prob(JB):                     4.75e-73\n",
      "Kurtosis:                       4.950   Cond. No.                         1.00\n",
      "==============================================================================\n",
      "\n",
      "Notes:\n",
      "[1] R² is computed without centering (uncentered) since the model does not contain a constant.\n",
      "[2] Standard Errors assume that the covariance matrix of the errors is correctly specified.\n",
      "Linear Regression MSE: 0.4817154554853283\n"
     ]
    }
   ],
   "source": [
    "import statsmodels.api as sm\n",
    "\n",
    "model = sm.OLS(y_train_war, X_train_war[['TB']])\n",
    "results = model.fit()\n",
    "print(results.summary())\n",
    "\n",
    "lm_pred = results.predict(X_val_war[['TB']])\n",
    "print(\"Linear Regression MSE:\", mean_squared_error(y_val_war, lm_pred))"
   ]
  },
  {
   "cell_type": "markdown",
   "id": "71485452",
   "metadata": {},
   "source": [
    "### Position\n",
    "\n",
    " 포지션에 따라 OPS 차이를 보이기 때문에 null값을 채운다. null값을 이전 혹은 다음 시즌의 포지션으로 채운다. 모두 null값인 경우 가장 많이 수행한 포지션으로 결측값을 채운다. position1은 null값이 1600 여개로 과반 이상이기 때문에 제거."
   ]
  },
  {
   "cell_type": "code",
   "execution_count": 21,
   "id": "4b51cd63",
   "metadata": {
    "ExecuteTime": {
     "end_time": "2022-01-15T08:27:11.773752Z",
     "start_time": "2022-01-15T08:27:11.758093Z"
    }
   },
   "outputs": [
    {
     "name": "stdout",
     "output_type": "stream",
     "text": [
      "C     367\n",
      "SS    287\n",
      "LF    273\n",
      "RF    262\n",
      "2B    256\n",
      "3B    249\n",
      "CF    238\n",
      "1B    236\n",
      "DH    118\n",
      "P       2\n",
      "H       1\n",
      "Name: position, dtype: int64\n"
     ]
    }
   ],
   "source": [
    "print(df['position'].value_counts())"
   ]
  },
  {
   "cell_type": "code",
   "execution_count": 22,
   "id": "f6f0f998",
   "metadata": {
    "ExecuteTime": {
     "end_time": "2022-01-15T08:27:11.789613Z",
     "start_time": "2022-01-15T08:27:11.773752Z"
    }
   },
   "outputs": [],
   "source": [
    "def fill_null_position(df, batter_id):\n",
    "    null_index = df[(df['batter_id'] == batter_id) & \n",
    "                    (df['position'].isna())].index\n",
    "    index1, index2 = null_index[0], null_index[-1]\n",
    "    if batter_id == df.iloc[index1 - 1]['batter_id']:\n",
    "        position = str(df.iloc[index1 - 1]['position'])\n",
    "    elif batter_id == df.iloc[index2 + 1]['batter_id']:\n",
    "        position = str(df.iloc[index2 + 1]['position'])\n",
    "    else: # 가장 많이한 포지션\n",
    "        position = df[df['batter_id'] == batter_id]['position'].value_counts().keys()[0]\n",
    "        \n",
    "    df.loc[(df['batter_id'] == batter_id) & \n",
    "           (df['position'].isna()), 'position'] = position\n",
    "    return df"
   ]
  },
  {
   "cell_type": "code",
   "execution_count": 23,
   "id": "8f4e7306",
   "metadata": {
    "ExecuteTime": {
     "end_time": "2022-01-15T08:27:11.959007Z",
     "start_time": "2022-01-15T08:27:11.790578Z"
    }
   },
   "outputs": [],
   "source": [
    "pos_null = df.loc[df['position'].isna()]['batter_id'].unique()\n",
    "for x in pos_null:\n",
    "    df = fill_null_position(df, x)"
   ]
  },
  {
   "cell_type": "code",
   "execution_count": 24,
   "id": "bbb4be8e",
   "metadata": {
    "ExecuteTime": {
     "end_time": "2022-01-15T08:27:11.974684Z",
     "start_time": "2022-01-15T08:27:11.961005Z"
    }
   },
   "outputs": [],
   "source": [
    "def in_out_cather(x):\n",
    "    if x[-1] == 'F':\n",
    "        return '외야수'\n",
    "    elif x == 'C':\n",
    "        return '포수'\n",
    "    elif x == 'DH':\n",
    "        return '지명타자'\n",
    "    else:\n",
    "        return '내야수'\n",
    "    \n",
    "df['in_out_catcher'] = df['position'].apply(in_out_cather)"
   ]
  },
  {
   "cell_type": "code",
   "execution_count": 25,
   "id": "1542f4cf",
   "metadata": {
    "ExecuteTime": {
     "end_time": "2022-01-15T08:27:11.990337Z",
     "start_time": "2022-01-15T08:27:11.976385Z"
    }
   },
   "outputs": [
    {
     "data": {
      "text/plain": [
       "batter_id         0\n",
       "batter_name       0\n",
       "year              0\n",
       "age               0\n",
       "position          0\n",
       "team              0\n",
       "career            0\n",
       "G                 0\n",
       "E                 0\n",
       "PA                0\n",
       "AB                0\n",
       "R                 0\n",
       "H                 0\n",
       "2B                0\n",
       "3B                0\n",
       "HR                0\n",
       "TB                0\n",
       "RBI               0\n",
       "SB                0\n",
       "CS                0\n",
       "BB                0\n",
       "HBP               0\n",
       "IBB               0\n",
       "SO                0\n",
       "GDP               0\n",
       "SH                0\n",
       "SF                0\n",
       "avg               0\n",
       "OBP               0\n",
       "SLG               0\n",
       "OPS               0\n",
       "wOBA              0\n",
       "wRC               0\n",
       "WAR               0\n",
       "in_out_catcher    0\n",
       "dtype: int64"
      ]
     },
     "execution_count": 25,
     "metadata": {},
     "output_type": "execute_result"
    }
   ],
   "source": [
    "df.isna().sum()"
   ]
  },
  {
   "cell_type": "code",
   "execution_count": 26,
   "id": "c0a700e2",
   "metadata": {
    "ExecuteTime": {
     "end_time": "2022-01-15T08:27:12.006261Z",
     "start_time": "2022-01-15T08:27:11.992299Z"
    }
   },
   "outputs": [],
   "source": [
    "next_season = 2018\n",
    "train = df.loc[(df['year'] != next_season) &\n",
    "               (df['year'] >= 2001)].reset_index(drop=True)\n",
    "test = df.loc[df['year'] == next_season].reset_index(drop=True)"
   ]
  },
  {
   "cell_type": "markdown",
   "id": "21f4613f",
   "metadata": {},
   "source": [
    "# 이상치 제거\n",
    "\n",
    "  최대한 행운의 요소를 제외하고 순수 실력만을 모델이 학습할 수 있도록 이상치를 제거하는 것이 필요히다.이를 위해 마할라노비스 거리를 활용하여 이상치를 제거하였다."
   ]
  },
  {
   "cell_type": "code",
   "execution_count": 27,
   "id": "d84709d7",
   "metadata": {
    "ExecuteTime": {
     "end_time": "2022-01-15T08:27:12.037178Z",
     "start_time": "2022-01-15T08:27:12.013244Z"
    }
   },
   "outputs": [],
   "source": [
    "from scipy.stats import chi2\n",
    "\n",
    "def mahalanobis_dist_outlier(df, targets, plot=True, verbose=False, q=0.95):\n",
    "\n",
    "    # Import dataset and clean it\n",
    "    df_target = df[targets]\n",
    "    df_target = df_target.fillna(0)\n",
    "    df_target = df_target.to_numpy()\n",
    "\n",
    "    # 1. Covariance matrix\n",
    "    covariance  = np.cov(df_target , rowvar=False)\n",
    "\n",
    "    # 2. Covariance matrix power of -1\n",
    "    covariance_pm1 = np.linalg.matrix_power(covariance, -1)\n",
    "\n",
    "    # 3. Center point\n",
    "    centerpoint = np.mean(df_target , axis=0)\n",
    "\n",
    "    # 4. Distances between center point and \n",
    "    distances = []\n",
    "    for i, val in enumerate(df_target):\n",
    "        p1 = val\n",
    "        p2 = centerpoint\n",
    "        distance = (p1-p2).T.dot(covariance_pm1).dot(p1-p2)\n",
    "        distances.append(distance)\n",
    "    distances = np.array(distances)\n",
    "\n",
    "    # 5. Cutoff (threshold) value from Chi-Sqaure Distribution for detecting outliers \n",
    "    cutoff = chi2.ppf(q, df_target.shape[1])\n",
    "\n",
    "    # 6. Index of outliers\n",
    "    outlier_indices = np.where(distances > cutoff )[0]\n",
    "\n",
    "    if verbose:\n",
    "        print('--- Index of Outliers ----')\n",
    "        print(outlier_indices)\n",
    "\n",
    "        print('--- Observations found as outlier -----')\n",
    "        print(df_target[ distances > cutoff , :])\n",
    "\n",
    "    if plot:\n",
    "        ## 7. Finding ellipse dimensions \n",
    "        pearson = covariance[0, 1]/np.sqrt(covariance[0, 0] * covariance[1, 1])\n",
    "        ell_radius_x = np.sqrt(1 + pearson)\n",
    "        ell_radius_y = np.sqrt(1 - pearson)\n",
    "        lambda_, v = np.linalg.eig(covariance)\n",
    "        lambda_ = np.sqrt(lambda_)\n",
    "\n",
    "        # Ellipse patch\n",
    "        ellipse = patches.Ellipse(xy=(centerpoint[0], centerpoint[1]),\n",
    "                          width=lambda_[0]*np.sqrt(cutoff)*2, height=lambda_[1]*np.sqrt(cutoff)*2,\n",
    "                          angle=np.rad2deg(np.arccos(v[0, 0])), edgecolor='#fab1a0')\n",
    "        ellipse.set_facecolor('#0984e3')\n",
    "        ellipse.set_alpha(0.5)\n",
    "        fig = plt.figure()\n",
    "        ax = plt.subplot()\n",
    "        ax.add_artist(ellipse)\n",
    "        plt.scatter(df_target[: , 0], df_target[ : , 1])\n",
    "        plt.xlabel(targets[0])\n",
    "        plt.ylabel(targets[1])\n",
    "        plt.show()\n",
    "    \n",
    "    return df.loc[df.index.isin(outlier_indices) == False], outlier_indices"
   ]
  },
  {
   "cell_type": "markdown",
   "id": "fe1a7d4a",
   "metadata": {},
   "source": [
    "### OPS+"
   ]
  },
  {
   "cell_type": "code",
   "execution_count": 28,
   "id": "8a502784",
   "metadata": {
    "ExecuteTime": {
     "end_time": "2022-01-15T08:27:12.084094Z",
     "start_time": "2022-01-15T08:27:12.038175Z"
    }
   },
   "outputs": [],
   "source": [
    "def OPS_plus(df):\n",
    "    years = sorted(df.year.unique())\n",
    "    for year in years:\n",
    "        tmp = df.loc[df['year'] == year]\n",
    "        obp_mean = tmp['OBP'].mean()\n",
    "        slg_mean = tmp['SLG'].mean()\n",
    "        df.loc[df['year'] == year, 'OPS+'] = 100 * ((tmp['OBP'] / obp_mean) + (tmp['SLG'] / slg_mean) - 1)        \n",
    "    return df\n",
    "\n",
    "train = OPS_plus(train)\n",
    "test = OPS_plus(test)"
   ]
  },
  {
   "cell_type": "code",
   "execution_count": 29,
   "id": "fc022c33",
   "metadata": {
    "ExecuteTime": {
     "end_time": "2022-01-15T08:27:12.224862Z",
     "start_time": "2022-01-15T08:27:12.086074Z"
    }
   },
   "outputs": [
    {
     "data": {
      "image/png": "[encoded data removed]",
      "text/plain": [
       "<Figure size 432x288 with 1 Axes>"
      ]
     },
     "metadata": {
      "needs_background": "light"
     },
     "output_type": "display_data"
    }
   ],
   "source": [
    "_, outlier_indices = mahalanobis_dist_outlier(train, targets=['AB', 'OPS+'], q=0.95)"
   ]
  },
  {
   "cell_type": "code",
   "execution_count": 30,
   "id": "e75f2c1c",
   "metadata": {
    "ExecuteTime": {
     "end_time": "2022-01-15T08:27:12.374309Z",
     "start_time": "2022-01-15T08:27:12.225886Z"
    }
   },
   "outputs": [
    {
     "data": {
      "image/png": "[encoded data removed]",
      "text/plain": [
       "<Figure size 432x288 with 1 Axes>"
      ]
     },
     "metadata": {
      "needs_background": "light"
     },
     "output_type": "display_data"
    }
   ],
   "source": [
    "train_outlier = train.loc[train.index.isin(outlier_indices)]\n",
    "\n",
    "plt.figure()\n",
    "plt.scatter(train['AB'], train['OPS+'])\n",
    "plt.scatter(train_outlier['AB'], train_outlier['OPS+'], label='oulier')\n",
    "plt.legend()\n",
    "plt.xlabel('AB')\n",
    "plt.ylabel('OPS+')\n",
    "plt.show();"
   ]
  },
  {
   "cell_type": "code",
   "execution_count": 31,
   "id": "ed607b0a",
   "metadata": {
    "ExecuteTime": {
     "end_time": "2022-01-15T08:27:12.389977Z",
     "start_time": "2022-01-15T08:27:12.374309Z"
    }
   },
   "outputs": [],
   "source": [
    "train, outlier_indices = mahalanobis_dist_outlier(train, targets=['AB', 'OPS+'], plot=False)"
   ]
  },
  {
   "cell_type": "markdown",
   "id": "43429b36",
   "metadata": {},
   "source": [
    "# 변수 생성"
   ]
  },
  {
   "cell_type": "markdown",
   "id": "4264f531",
   "metadata": {},
   "source": [
    "## XBH와 BOB\n",
    "\n"
   ]
  },
  {
   "cell_type": "code",
   "execution_count": 32,
   "id": "891c614e",
   "metadata": {
    "ExecuteTime": {
     "end_time": "2022-01-15T08:27:12.404679Z",
     "start_time": "2022-01-15T08:27:12.389977Z"
    }
   },
   "outputs": [],
   "source": [
    "def xbh_bob(df):\n",
    "    df['XBH'] = df['HR'] + df['2B'] + df['3B'] # 장타\n",
    "    df['BOB'] = df['H'] + df['BB'] + df['HBP'] # 출루\n",
    "    df['XBH/PA'] = ((df['HR'] + df['2B'] + df['3B']) / df['PA']).fillna(0) # 장타\n",
    "    df['BOB/PA'] = ((df['H'] + df['BB'] + df['HBP']) / df['PA']).fillna(0) # 출루\n",
    "    return df\n",
    "\n",
    "train = xbh_bob(train)\n",
    "test = xbh_bob(test)"
   ]
  },
  {
   "cell_type": "markdown",
   "id": "7b79cdaa",
   "metadata": {},
   "source": [
    "## BABIP \n",
    "\n",
    "BABIP는 투수 혹은 타자가 순수한 실력 외에 수비/운의 영향을 얼마나 받았는지 가늠할 수 있는 지표로 활발히 사용되고 있다. 이는 투수/타자의 BABIP가 다음과 같은 특성을 갖기 때문이다.\n",
    "\n",
    "* (1) 투수의 능력에 관계없이 모든 투수는 일정한 수준의 시즌 BABIP를 유지한다. 이 값은 대개 0.280~0.300 사이로 유지된다(메이저리그 기준).\n",
    "* (2) 타자는 개인의 재능, 능력에 따라서 커리어 내내 비슷한 수준의 BABIP를 유지한다.\n",
    "\n",
    "여기서 일정한 값을 유지한다는 것이 핵심이다. 즉, 어떤 선발 투수의 BABIP가 4할에 육박한다면, 더 많은 경기를 치를 수록 그 값은 3할 수준으로 회귀할 것이라는 예상이 가능하다. 타자의 경우도 비슷하다.\n",
    "\n",
    "* 공식: BABIP = (안타-홈런) / (타수-삼진-홈런+희생플라이)\n",
    "\n",
    "다만 시즌 최종 성적에서 BABIP가 통산 성적 혹은 '일반적인 수준'보다 지나치게 높은 타자라면 이듬해 성적 하락을 강하게 의심해볼 수 있다.\n",
    "\n",
    "\n",
    "\n",
    "2014년 이명기가 그랬는데, 2014년 BABIP 0.432와 0.368/0.414/0.470의 타율/출루율/장타율을 기록한 뒤 이듬해 BABIP가 0.369로 떨어지면서 0.315/0.368/0.397로 성적이 떨어졌다. 홈런 증가 없이 고타율&고BABIP에 기대 성적을 내면 다음해 성적이 떨어진다는 대표적인 사례."
   ]
  },
  {
   "cell_type": "code",
   "execution_count": 33,
   "id": "56570e01",
   "metadata": {
    "ExecuteTime": {
     "end_time": "2022-01-15T08:27:12.420636Z",
     "start_time": "2022-01-15T08:27:12.406676Z"
    }
   },
   "outputs": [],
   "source": [
    "def BABIP(df):\n",
    "    df['BABIP'] = (df['H'] - df['HR']) / (df['AB'] - df['SO'] - df['HR'] + df['SF'])\n",
    "    df['BABIP'] = df['BABIP'].fillna(0)\n",
    "    # df['BABIP*HR'] = df['BABIP'] * (df['2B'] + df['3B'] + df['HR'])\n",
    "    return df\n",
    "\n",
    "train = BABIP(train)\n",
    "test = BABIP(test)"
   ]
  },
  {
   "cell_type": "markdown",
   "id": "84d242b3",
   "metadata": {},
   "source": [
    "## GPA\n",
    "\n",
    "GPA는 애런 글리만이 고안한 지표로써 Gross Production Average의 앞 글자를 따서 만들어진 기록이다. OPS의 단점 중 하나인 출루율과 장타율의 비중을 1:1로 두는 문제를 해결하기 위해 출루율에 가중치를 둔 지표이다.\n",
    "\n",
    "KBO 리그에서는 출루율이 장타율보다 1.57배 중요하다. (장타의 가치가 메이저리그보다 더 높다.) 이는 장타력을 가진 타자가 한국에 더 희소하기 때문으로 해석될 수 있다. 한국형 GPA를 산출하는 공식은 다음과 같다.\n",
    "\n",
    "GPA = (1.57*(출루율)+장타율)/4"
   ]
  },
  {
   "cell_type": "code",
   "execution_count": 34,
   "id": "aba3c1f5",
   "metadata": {
    "ExecuteTime": {
     "end_time": "2022-01-15T08:27:12.436595Z",
     "start_time": "2022-01-15T08:27:12.421634Z"
    }
   },
   "outputs": [],
   "source": [
    "def GPA(df):\n",
    "    df['GPA'] = (1.57 * df['OBP']) + df['SLG'] / 4\n",
    "    return df\n",
    "\n",
    "train = GPA(train)\n",
    "test = GPA(test)"
   ]
  },
  {
   "cell_type": "markdown",
   "id": "19311473",
   "metadata": {},
   "source": [
    "## RC\n",
    "\n",
    "득점 생산력\n",
    "\n",
    "계산 방법이 매우 복잡하다.\n",
    "\n",
    "A(On baseball factor 출루능력) = 안타+볼넷-도루실패+사구-병살타\n",
    "\n",
    "B(Advanced factor 진루능력) = 0.24×(볼넷-고의4구+사구)+0.62×도루+0.5×(희생번트+희생플라이)-0.03×삼진\n",
    "\n",
    "C(Opportunity factor 주어진 기회) = 타수+볼넷+사구+희생번트+희생플라이로 정의할 때,\n",
    "\n",
    " \n",
    "\n",
    "RC = {(2.4C+A)×(3C+B)/(9×C)}-0.9×C이다."
   ]
  },
  {
   "cell_type": "code",
   "execution_count": 35,
   "id": "c839d6fb",
   "metadata": {
    "ExecuteTime": {
     "end_time": "2022-01-15T08:27:12.468508Z",
     "start_time": "2022-01-15T08:27:12.438589Z"
    }
   },
   "outputs": [],
   "source": [
    "def RC(df):\n",
    "    # 출루능력\n",
    "    df['OBF'] = df['H'] + df['BB'] - df['CS'] + df['HBP'] - df['GDP']\n",
    "    # 진루능력\n",
    "    df['AF'] = 0.24 * (df['BB'] - df['IBB'] + df['HBP']) + 0.62 * df['SB'] + 0.5 * (df['SH'] + df['SF']) - 0.03 * df['SO']\n",
    "    # 기회\n",
    "    df['OF'] = df['AB'] + df['BB'] + df['HBP'] + df['SH'] + df['SF']\n",
    "    df['RC'] = ((2.4 * df['OF'] + df['OBF']) * (3 * df['OF'] + df['AF']) / 9 * df['OF']) - 0.9 * df['OF']\n",
    "    df['RC27'] = df['RC'] / 27\n",
    "    return df\n",
    "\n",
    "train = RC(train)\n",
    "test = RC(test)"
   ]
  },
  {
   "cell_type": "markdown",
   "id": "9cd65c90",
   "metadata": {},
   "source": [
    "## XR\n",
    "\n",
    "XR = (0.50×1B) + (0.72×2B) + (1.04×3B) + (1.44×HR) + (0.34×(HBP+BB−IBB)) + (0.25×IBB) + (0.18×SB) + (−0.32×CS) + (−0.090×(AB−H−K) + (−0.098xK) + (−0.37×GIDP) + (0.37 x SF) + (0.04×SH)"
   ]
  },
  {
   "cell_type": "code",
   "execution_count": 36,
   "id": "74025462",
   "metadata": {
    "ExecuteTime": {
     "end_time": "2022-01-15T08:27:12.514386Z",
     "start_time": "2022-01-15T08:27:12.469508Z"
    }
   },
   "outputs": [],
   "source": [
    "def XR(df):\n",
    "    # 개인 기대득점\n",
    "    df['XR'] = (\n",
    "        0.5 * df['1B'] + 0.72 * df['2B'] + 1.04 * df['3B'] + 1.44 * df['HR'] + 0.34 * (df['HBP'] + df['BB'] - df['IBB'])\n",
    "        + 0.25 * df['IBB'] + 0.18 * df['SB'] - 0.32 * df['CS'] - 0.09 * (df['AB'] - df['H'] - df['SO']) - 0.098 * df['SO']\n",
    "        - 0.37 * df['GDP'] + 0.37 * df['SF'] + 0.04 * df['SH']\n",
    "    ) \n",
    "    # 팀 기대득점\n",
    "    df_team = df.groupby(['year', 'team']).sum().reset_index()[['year', 'team', 'XR']]\n",
    "    df_team = df_team.rename(columns={'XR':'teamXR'})\n",
    "    df = pd.merge(df, df_team, on=['year', 'team'], how='left')\n",
    "    # 팀 기대득점 대비 XR\n",
    "    df['tXR'] = (df['XR'] / df['teamXR']) * 100\n",
    "    return df\n",
    "\n",
    "train['1B'] = train['H'] - (train['2B'] + train['3B'] + train['HR'])\n",
    "test['1B'] = test['H'] - (test['2B'] + test['3B'] + test['HR'])\n",
    "train = XR(train)\n",
    "test = XR(test)"
   ]
  },
  {
   "cell_type": "markdown",
   "id": "68347f9b",
   "metadata": {},
   "source": [
    "## % 지표"
   ]
  },
  {
   "cell_type": "code",
   "execution_count": 37,
   "id": "5adec85e",
   "metadata": {
    "ExecuteTime": {
     "end_time": "2022-01-15T08:27:12.562173Z",
     "start_time": "2022-01-15T08:27:12.516396Z"
    }
   },
   "outputs": [],
   "source": [
    "def get_data_per_plate(df):\n",
    "    # 삼진%\n",
    "    df['SO%'] = df['SO'] / df['PA']\n",
    "    df['SO%'] = df['SO%'].fillna(0)\n",
    "    # 볼넷%\n",
    "    df['BB%'] = df['BB'] / (df['BB'] + df['SF'] + df['SB'])\n",
    "    df['BB%'] = df['BB%'].fillna(0)\n",
    "    # 삼진/볼넷%\n",
    "    df['BB/SO'] = df['BB'] / df['SO']\n",
    "    df.loc[df['BB/SO'] == np.inf, 'BB/SO'] = 0\n",
    "    df['BB/SO'] = df['BB/SO'].fillna(0)\n",
    "    # 순장타율\n",
    "    df['IsoP'] = (df['2B'] + (df['3B'] * 2) + (df['HR'] * 3)) / df['PA']\n",
    "    df['IsoP'] = df['IsoP'].fillna(0)\n",
    "    # 홈런%\n",
    "    df['HR/PA'] = df['HR'] / df['PA']\n",
    "    df.loc[df['HR/PA'] == np.inf, 'HR/PA'] = 0\n",
    "    df['HR/PA'] = df['HR/PA'].fillna(0)\n",
    "    # 루타 / 안타\n",
    "    # df['1B/H'] = (df['1B'] / df['H']).fillna(0)\n",
    "    # df['2B/H'] = (df['2B'] / df['H']).fillna(0)\n",
    "    # df['3B/H'] = (df['3B'] / df['H']).fillna(0)\n",
    "    # df['HR/H'] = (df['HR'] / df['H']).fillna(0)\n",
    "    \n",
    "    # 루타 / 타석\n",
    "    df['1B/PA'] = (df['1B'] / df['PA']).fillna(0)\n",
    "    df['2B/PA'] = (df['2B'] / df['PA']).fillna(0)\n",
    "    df['3B/PA'] = (df['3B'] / df['PA']).fillna(0)\n",
    "    df['HR/PA'] = (df['HR'] / df['PA']).fillna(0)\n",
    "    return df\n",
    "\n",
    "train = get_data_per_plate(train)\n",
    "test = get_data_per_plate(test)"
   ]
  },
  {
   "cell_type": "markdown",
   "id": "123a6369",
   "metadata": {},
   "source": [
    "## 범주형 데이터 처리\n",
    "\n",
    "### 포지션(야수, 포수, 지명타자)"
   ]
  },
  {
   "cell_type": "code",
   "execution_count": 38,
   "id": "caaf995d",
   "metadata": {
    "ExecuteTime": {
     "end_time": "2022-01-15T08:27:12.577130Z",
     "start_time": "2022-01-15T08:27:12.567158Z"
    }
   },
   "outputs": [],
   "source": [
    "def position(x):\n",
    "    if x == '내야수' or x == '외야수':\n",
    "        return 'F'\n",
    "    elif x == '지명타자':\n",
    "        return 'D'\n",
    "    elif x == '포수':\n",
    "        return 'C'\n",
    "\n",
    "train['in_out_catcher'] = train['in_out_catcher'].apply(position)"
   ]
  },
  {
   "cell_type": "code",
   "execution_count": 39,
   "id": "5e9993e0",
   "metadata": {
    "ExecuteTime": {
     "end_time": "2022-01-15T08:27:12.593114Z",
     "start_time": "2022-01-15T08:27:12.579124Z"
    }
   },
   "outputs": [],
   "source": [
    "train = pd.concat([train, \n",
    "                   pd.get_dummies(train['in_out_catcher'])],\n",
    "                   axis=1)"
   ]
  },
  {
   "cell_type": "markdown",
   "id": "ea1e1f28",
   "metadata": {},
   "source": [
    "### 팀"
   ]
  },
  {
   "cell_type": "code",
   "execution_count": 40,
   "id": "7dda8c83",
   "metadata": {
    "ExecuteTime": {
     "end_time": "2022-01-15T08:27:12.609076Z",
     "start_time": "2022-01-15T08:27:12.594083Z"
    }
   },
   "outputs": [],
   "source": [
    "train = pd.concat([train, \n",
    "                   pd.get_dummies(train['team'])],\n",
    "                   axis=1)"
   ]
  },
  {
   "cell_type": "markdown",
   "id": "f0532d7b",
   "metadata": {},
   "source": [
    "## Aging Curve"
   ]
  },
  {
   "cell_type": "code",
   "execution_count": 41,
   "id": "9c1e95e8",
   "metadata": {
    "ExecuteTime": {
     "end_time": "2022-01-15T08:27:12.624004Z",
     "start_time": "2022-01-15T08:27:12.611038Z"
    }
   },
   "outputs": [],
   "source": [
    "from scipy import optimize\n",
    "\n",
    "def aging_curve(func, df, target='WAR', lower=0.1, upper=0.9, plot=True,\n",
    "                median=False, ma=False, window=3, opt_return=False,\n",
    "                age_upper=99, data=True, curve_fit=True):\n",
    "    \n",
    "    df = df.loc[(df[target] > df[target].quantile(lower)) &\n",
    "                (df[target] < df[target].quantile(upper)) &\n",
    "                (df['age'] < age_upper)]\n",
    "    if median:\n",
    "        df_age = df.groupby('age').median().reset_index()\n",
    "    else:\n",
    "        df_age = df.groupby('age').mean().reset_index()\n",
    "    \n",
    "    if ma:\n",
    "        title = 'Aging Curve MA(' + target + ')'\n",
    "        xdata = df_age['age'].rolling(window=window).mean().dropna()\n",
    "        ydata = df_age[target].rolling(window=window).mean().dropna()\n",
    "    else:\n",
    "        title = 'Aging Curve (' + target + ')' \n",
    "        xdata = df_age['age']\n",
    "        ydata = df_age[target]\n",
    "        \n",
    "    popt, pcov = optimize.curve_fit(func, xdata, ydata)\n",
    "    \n",
    "    if plot:\n",
    "        plt.figure(figsize=(10, 6))\n",
    "        if data:\n",
    "            plt.plot(xdata, ydata, '-o', label='avg. '+ target, color='tab:blue')\n",
    "        if curve_fit:\n",
    "            plt.plot(xdata, func(xdata, *popt), '-o', label=title, color='tab:orange')\n",
    "        plt.xticks(ticks=xdata)\n",
    "        plt.legend()\n",
    "        plt.xlabel('Age')\n",
    "        plt.ylabel(target)\n",
    "        plt.title(title)\n",
    "        plt.show();\n",
    "\n",
    "    if opt_return:\n",
    "        y_hat = func(xdata, *popt)\n",
    "        return {x:y for x, y in zip(xdata, y_hat)}\n",
    "\n",
    "def func(x, a, b, c, d, e):\n",
    "    return a * x ** 5 + b * x ** 4 + c * x ** 3 + d * x + e"
   ]
  },
  {
   "cell_type": "code",
   "execution_count": 42,
   "id": "2e67e462",
   "metadata": {
    "ExecuteTime": {
     "end_time": "2022-01-15T08:27:12.836372Z",
     "start_time": "2022-01-15T08:27:12.625000Z"
    }
   },
   "outputs": [
    {
     "data": {
      "image/png": "[encoded data removed]",
      "text/plain": [
       "<Figure size 720x432 with 1 Axes>"
      ]
     },
     "metadata": {
      "needs_background": "light"
     },
     "output_type": "display_data"
    }
   ],
   "source": [
    "result = aging_curve(func, train, target='OPS', opt_return=True)"
   ]
  },
  {
   "cell_type": "markdown",
   "id": "e7b5d052",
   "metadata": {},
   "source": [
    "# 시즌별 기록 보정"
   ]
  },
  {
   "cell_type": "code",
   "execution_count": 43,
   "id": "fbe2ff38",
   "metadata": {
    "ExecuteTime": {
     "end_time": "2022-01-15T08:27:13.215382Z",
     "start_time": "2022-01-15T08:27:12.838290Z"
    }
   },
   "outputs": [],
   "source": [
    "columns = ['age', 'G', 'E', 'PA', 'AB', 'R', 'H', '2B', '3B',\n",
    "           'HR', 'TB', 'RBI', 'SB', 'CS', 'BB', 'HBP', 'IBB', 'SO', 'GDP', 'SH',\n",
    "           'SF', 'avg', 'OBP', 'SLG', 'OPS', 'wOBA', 'wRC', 'WAR', 'OPS+', 'BABIP',\n",
    "           'GPA', 'OBF', 'AF', 'OF', 'RC', 'RC27', '1B', 'XR', 'teamXR', 'tXR',\n",
    "           'SO%', 'BB%', 'BB/SO', 'IsoP', 'HR/PA', '1B/H', '2B/H', '3B/H', 'HR/H',\n",
    "           '1B/PA', '2B/PA', '3B/PA']\n",
    "\n",
    "for year in sorted(train.year.unique()):\n",
    "    avg_year = train.loc[train['year'] == year][columns].mean()\n",
    "    train.loc[train['year'] == year, columns] = train[columns] / avg_year"
   ]
  },
  {
   "cell_type": "markdown",
   "id": "e31a13ad",
   "metadata": {},
   "source": [
    "# Data Labeling\n",
    "\n",
    "\n",
    "  전 시즌 데이터로 다음 시즌 OPS를 예측하도록 데이터 라벨링을 시행한다."
   ]
  },
  {
   "cell_type": "code",
   "execution_count": 44,
   "id": "cac2636e",
   "metadata": {
    "ExecuteTime": {
     "end_time": "2022-01-15T08:27:13.434549Z",
     "start_time": "2022-01-15T08:27:13.215382Z"
    }
   },
   "outputs": [],
   "source": [
    "def create_labeling(data, target_name='OPS'):\n",
    "    data = data.sort_values(['batter_id', 'year']).reset_index(drop=True)\n",
    "    # 성적 보정 (성적 / 시즌 평균)\n",
    "    \n",
    "    # 다음 시즌\n",
    "    target = list(data[target_name])\n",
    "    del target[0] \n",
    "    target.append(-1)\n",
    "    data['t_' + target_name] = target\n",
    "    \n",
    "    # 타자 이름별 연도가 가장 큰 열의 OPS값을 -1로 바꿔준다.\n",
    "    # 현역일 경우 2018년, 은퇴한 선수일 경우 은퇴년도가 -1이 된다.\n",
    "    batter_year = data.groupby('batter_name')['year'].max().reset_index()\n",
    "    for batter_name, year in zip(list(batter_year['batter_name']), list(batter_year['year'])):\n",
    "        data.loc[(data['batter_name'] == batter_name) & (data['year'] == year), 't_' + target_name] = -1\n",
    "    return data\n",
    "\n",
    "target_name = 't_OPS'\n",
    "train = create_labeling(train, target_name='OPS')\n",
    "retire = train.loc[train[target_name] == -1]\n",
    "train = train.loc[train[target_name] != -1].reset_index(drop=True)\n",
    "test[target_name] = -1"
   ]
  },
  {
   "cell_type": "code",
   "execution_count": null,
   "id": "ddfd3170",
   "metadata": {},
   "outputs": [],
   "source": []
  },
  {
   "cell_type": "code",
   "execution_count": null,
   "id": "6e188af4",
   "metadata": {},
   "outputs": [],
   "source": []
  },
  {
   "cell_type": "code",
   "execution_count": null,
   "id": "3c5ee5cb",
   "metadata": {},
   "outputs": [],
   "source": []
  }
 ],
 "metadata": {
  "kernelspec": {
   "display_name": "Python 3 (ipykernel)",
   "language": "python",
   "name": "python3"
  },
  "language_info": {
   "codemirror_mode": {
    "name": "ipython",
    "version": 3
   },
   "file_extension": ".py",
   "mimetype": "text/x-python",
   "name": "python",
   "nbconvert_exporter": "python",
   "pygments_lexer": "ipython3",
   "version": "3.9.5"
  }
 },
 "nbformat": 4,
 "nbformat_minor": 5
}
